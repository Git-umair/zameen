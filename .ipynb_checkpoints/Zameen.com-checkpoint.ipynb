{
 "cells": [
  {
   "cell_type": "code",
   "execution_count": null,
   "id": "db353d98",
   "metadata": {},
   "outputs": [],
   "source": [
    "import pandas as pd\n",
    "import requests\n",
    "from bs4 import BeautifulSoup\n",
    "import numpy as np\n",
    "\n",
    "price =[]\n",
    "location =[]\n",
    "area = []\n",
    "discription =[]\n",
    "for j in range(1,961):\n",
    "    webpage=requests.get('https://www.zameen.com/Homes/Lahore-1-{}.html'.format(j)).text\n",
    "    soup=BeautifulSoup(webpage,'lxml')\n",
    "    data=(soup.find_all('div',class_='_1d4d62ed'))\n",
    "    for i in data:\n",
    "        location.append(i.find('div', class_=\"_162e6469\").text.strip())\n",
    "        price.append(i.find('div',class_='_7ac32433').text.strip())\n",
    "        area.append(i.find('h2').text.strip())\n",
    "        discription.append(i.find('span', class_='b779b320').text.strip())\n",
    "    \n",
    "    \n",
    "d={'property':area, 'location':location, 'price':price, 'discription':discription}\n",
    "    \n",
    "df=pd.DataFrame(d)\n",
    "df.to_excel('Properties.xlsx', sheet_name='zameen')"
   ]
  }
 ],
 "metadata": {
  "kernelspec": {
   "display_name": "Python 3 (ipykernel)",
   "language": "python",
   "name": "python3"
  },
  "language_info": {
   "codemirror_mode": {
    "name": "ipython",
    "version": 3
   },
   "file_extension": ".py",
   "mimetype": "text/x-python",
   "name": "python",
   "nbconvert_exporter": "python",
   "pygments_lexer": "ipython3",
   "version": "3.9.13"
  }
 },
 "nbformat": 4,
 "nbformat_minor": 5
}
