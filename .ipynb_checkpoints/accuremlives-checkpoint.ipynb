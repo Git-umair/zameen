{
 "cells": [
  {
   "cell_type": "code",
   "execution_count": 4,
   "id": "c7e43943",
   "metadata": {},
   "outputs": [],
   "source": [
    "import requests\n",
    "import pandas as pd\n",
    "import numpy as np\n",
    "from bs4 import BeautifulSoup"
   ]
  },
  {
   "cell_type": "code",
   "execution_count": 52,
   "id": "9254ef30",
   "metadata": {
    "scrolled": true
   },
   "outputs": [
    {
     "ename": "AttributeError",
     "evalue": "ResultSet object has no attribute 'text'. You're probably treating a list of elements like a single element. Did you call find_all() when you meant to call find()?",
     "output_type": "error",
     "traceback": [
      "\u001b[1;31m---------------------------------------------------------------------------\u001b[0m",
      "\u001b[1;31mAttributeError\u001b[0m                            Traceback (most recent call last)",
      "\u001b[1;32m~\\AppData\\Local\\Temp\\ipykernel_5536\\917114260.py\u001b[0m in \u001b[0;36m<module>\u001b[1;34m\u001b[0m\n\u001b[0;32m      6\u001b[0m \u001b[0mtabel\u001b[0m\u001b[1;33m=\u001b[0m\u001b[0msoup\u001b[0m\u001b[1;33m.\u001b[0m\u001b[0mfind_all\u001b[0m\u001b[1;33m(\u001b[0m\u001b[1;34m'div'\u001b[0m\u001b[1;33m,\u001b[0m \u001b[0mclass_\u001b[0m\u001b[1;33m=\u001b[0m\u001b[1;34m'product details product-item-details'\u001b[0m\u001b[1;33m)\u001b[0m\u001b[1;33m\u001b[0m\u001b[1;33m\u001b[0m\u001b[0m\n\u001b[0;32m      7\u001b[0m \u001b[1;32mfor\u001b[0m \u001b[0mi\u001b[0m \u001b[1;32min\u001b[0m \u001b[0mtabel\u001b[0m\u001b[1;33m:\u001b[0m\u001b[1;33m\u001b[0m\u001b[1;33m\u001b[0m\u001b[0m\n\u001b[1;32m----> 8\u001b[1;33m     \u001b[0mabc\u001b[0m\u001b[1;33m.\u001b[0m\u001b[0mappend\u001b[0m\u001b[1;33m(\u001b[0m\u001b[0mi\u001b[0m\u001b[1;33m.\u001b[0m\u001b[0mfind_all\u001b[0m\u001b[1;33m(\u001b[0m\u001b[1;34m'strong'\u001b[0m\u001b[1;33m)\u001b[0m\u001b[1;33m.\u001b[0m\u001b[0mtext\u001b[0m\u001b[1;33m.\u001b[0m\u001b[0mstrip\u001b[0m\u001b[1;33m(\u001b[0m\u001b[1;33m)\u001b[0m\u001b[1;33m)\u001b[0m\u001b[1;33m\u001b[0m\u001b[1;33m\u001b[0m\u001b[0m\n\u001b[0m",
      "\u001b[1;32m~\\anaconda3\\lib\\site-packages\\bs4\\element.py\u001b[0m in \u001b[0;36m__getattr__\u001b[1;34m(self, key)\u001b[0m\n\u001b[0;32m   2287\u001b[0m     \u001b[1;32mdef\u001b[0m \u001b[0m__getattr__\u001b[0m\u001b[1;33m(\u001b[0m\u001b[0mself\u001b[0m\u001b[1;33m,\u001b[0m \u001b[0mkey\u001b[0m\u001b[1;33m)\u001b[0m\u001b[1;33m:\u001b[0m\u001b[1;33m\u001b[0m\u001b[1;33m\u001b[0m\u001b[0m\n\u001b[0;32m   2288\u001b[0m         \u001b[1;34m\"\"\"Raise a helpful exception to explain a common code fix.\"\"\"\u001b[0m\u001b[1;33m\u001b[0m\u001b[1;33m\u001b[0m\u001b[0m\n\u001b[1;32m-> 2289\u001b[1;33m         raise AttributeError(\n\u001b[0m\u001b[0;32m   2290\u001b[0m             \u001b[1;34m\"ResultSet object has no attribute '%s'. You're probably treating a list of elements like a single element. Did you call find_all() when you meant to call find()?\"\u001b[0m \u001b[1;33m%\u001b[0m \u001b[0mkey\u001b[0m\u001b[1;33m\u001b[0m\u001b[1;33m\u001b[0m\u001b[0m\n\u001b[0;32m   2291\u001b[0m         )\n",
      "\u001b[1;31mAttributeError\u001b[0m: ResultSet object has no attribute 'text'. You're probably treating a list of elements like a single element. Did you call find_all() when you meant to call find()?"
     ]
    }
   ],
   "source": [
    "abc=[]\n",
    "price=[]\n",
    "url='https://www.babyplanet.pk/diaper-bags'\n",
    "data=requests.get(url).text\n",
    "soup=BeautifulSoup(data, 'html')\n",
    "tabel=soup.find_all('div', class_='product details product-item-details')\n",
    "for i in tabel:\n",
    "    abc.append(i.find_all('strong').text.strip())"
   ]
  },
  {
   "cell_type": "code",
   "execution_count": 1,
   "id": "56a6a9de",
   "metadata": {},
   "outputs": [
    {
     "ename": "NameError",
     "evalue": "name 'abc' is not defined",
     "output_type": "error",
     "traceback": [
      "\u001b[1;31m---------------------------------------------------------------------------\u001b[0m",
      "\u001b[1;31mNameError\u001b[0m                                 Traceback (most recent call last)",
      "\u001b[1;32m~\\AppData\\Local\\Temp\\ipykernel_4100\\3350977461.py\u001b[0m in \u001b[0;36m<module>\u001b[1;34m\u001b[0m\n\u001b[1;32m----> 1\u001b[1;33m \u001b[0mabc\u001b[0m\u001b[1;33m\u001b[0m\u001b[1;33m\u001b[0m\u001b[0m\n\u001b[0m",
      "\u001b[1;31mNameError\u001b[0m: name 'abc' is not defined"
     ]
    }
   ],
   "source": [
    " ,'price ':price,'location':location, 'discription ':discription , 'posted':posted,"
   ]
  },
  {
   "cell_type": "code",
   "execution_count": 22,
   "id": "ce4e2240",
   "metadata": {},
   "outputs": [
    {
     "ename": "AttributeError",
     "evalue": "ResultSet object has no attribute 'text'. You're probably treating a list of elements like a single element. Did you call find_all() when you meant to call find()?",
     "output_type": "error",
     "traceback": [
      "\u001b[1;31m---------------------------------------------------------------------------\u001b[0m",
      "\u001b[1;31mAttributeError\u001b[0m                            Traceback (most recent call last)",
      "\u001b[1;32m~\\AppData\\Local\\Temp\\ipykernel_8008\\2352680454.py\u001b[0m in \u001b[0;36m<module>\u001b[1;34m\u001b[0m\n\u001b[0;32m     15\u001b[0m \u001b[1;32mfor\u001b[0m \u001b[0mi\u001b[0m \u001b[1;32min\u001b[0m \u001b[0mtabel\u001b[0m\u001b[1;33m:\u001b[0m\u001b[1;33m\u001b[0m\u001b[1;33m\u001b[0m\u001b[0m\n\u001b[0;32m     16\u001b[0m \u001b[1;33m\u001b[0m\u001b[0m\n\u001b[1;32m---> 17\u001b[1;33m         \u001b[0mprice\u001b[0m\u001b[1;33m.\u001b[0m\u001b[0mappend\u001b[0m\u001b[1;33m(\u001b[0m\u001b[0mi\u001b[0m\u001b[1;33m.\u001b[0m\u001b[0mfind_all\u001b[0m\u001b[1;33m(\u001b[0m\u001b[1;34m'div'\u001b[0m\u001b[1;33m,\u001b[0m \u001b[0mclass_\u001b[0m\u001b[1;33m=\u001b[0m\u001b[1;34m'_7ac32433'\u001b[0m\u001b[1;33m)\u001b[0m\u001b[1;33m.\u001b[0m\u001b[0mtext\u001b[0m\u001b[1;33m.\u001b[0m\u001b[0mstrip\u001b[0m\u001b[1;33m(\u001b[0m\u001b[1;33m)\u001b[0m\u001b[1;33m)\u001b[0m\u001b[1;33m\u001b[0m\u001b[1;33m\u001b[0m\u001b[0m\n\u001b[0m\u001b[0;32m     18\u001b[0m         \u001b[0mlocation\u001b[0m\u001b[1;33m.\u001b[0m\u001b[0mappend\u001b[0m\u001b[1;33m(\u001b[0m\u001b[0mi\u001b[0m\u001b[1;33m.\u001b[0m\u001b[0mfind_all\u001b[0m\u001b[1;33m(\u001b[0m\u001b[1;34m'div'\u001b[0m\u001b[1;33m,\u001b[0m \u001b[0mclass_\u001b[0m\u001b[1;33m=\u001b[0m\u001b[1;34m'_162e6469'\u001b[0m\u001b[1;33m)\u001b[0m\u001b[1;33m.\u001b[0m\u001b[0mtext\u001b[0m\u001b[1;33m.\u001b[0m\u001b[0mstrip\u001b[0m\u001b[1;33m(\u001b[0m\u001b[1;33m)\u001b[0m\u001b[1;33m)\u001b[0m\u001b[1;33m\u001b[0m\u001b[1;33m\u001b[0m\u001b[0m\n\u001b[0;32m     19\u001b[0m         \u001b[0mtitle\u001b[0m\u001b[1;33m.\u001b[0m\u001b[0mappend\u001b[0m\u001b[1;33m(\u001b[0m\u001b[0mi\u001b[0m\u001b[1;33m.\u001b[0m\u001b[0mfind_all\u001b[0m\u001b[1;33m(\u001b[0m\u001b[1;34m'h'\u001b[0m\u001b[1;33m,\u001b[0m \u001b[0mclass_\u001b[0m\u001b[1;33m=\u001b[0m\u001b[1;34m'c0df3811'\u001b[0m\u001b[1;33m)\u001b[0m\u001b[1;33m)\u001b[0m\u001b[1;33m\u001b[0m\u001b[1;33m\u001b[0m\u001b[0m\n",
      "\u001b[1;32m~\\anaconda3\\lib\\site-packages\\bs4\\element.py\u001b[0m in \u001b[0;36m__getattr__\u001b[1;34m(self, key)\u001b[0m\n\u001b[0;32m   2287\u001b[0m     \u001b[1;32mdef\u001b[0m \u001b[0m__getattr__\u001b[0m\u001b[1;33m(\u001b[0m\u001b[0mself\u001b[0m\u001b[1;33m,\u001b[0m \u001b[0mkey\u001b[0m\u001b[1;33m)\u001b[0m\u001b[1;33m:\u001b[0m\u001b[1;33m\u001b[0m\u001b[1;33m\u001b[0m\u001b[0m\n\u001b[0;32m   2288\u001b[0m         \u001b[1;34m\"\"\"Raise a helpful exception to explain a common code fix.\"\"\"\u001b[0m\u001b[1;33m\u001b[0m\u001b[1;33m\u001b[0m\u001b[0m\n\u001b[1;32m-> 2289\u001b[1;33m         raise AttributeError(\n\u001b[0m\u001b[0;32m   2290\u001b[0m             \u001b[1;34m\"ResultSet object has no attribute '%s'. You're probably treating a list of elements like a single element. Did you call find_all() when you meant to call find()?\"\u001b[0m \u001b[1;33m%\u001b[0m \u001b[0mkey\u001b[0m\u001b[1;33m\u001b[0m\u001b[1;33m\u001b[0m\u001b[0m\n\u001b[0;32m   2291\u001b[0m         )\n",
      "\u001b[1;31mAttributeError\u001b[0m: ResultSet object has no attribute 'text'. You're probably treating a list of elements like a single element. Did you call find_all() when you meant to call find()?"
     ]
    }
   ],
   "source": [
    "import requests\n",
    "import pandas as pd\n",
    "import numpy as np\n",
    "from bs4 import BeautifulSoup\n",
    "\n",
    "location =[]\n",
    "price =[]\n",
    "title =[]\n",
    "posted =[]\n",
    "discription =[]\n",
    "url='https://www.zameen.com/Homes/Islamabad-3-1.html'\n",
    "data=requests.get(url).text\n",
    "soup=BeautifulSoup(data,'lxml')\n",
    "tabel=soup.find_all('div',class_='_1d4d62ed')\n",
    "for i in tabel:\n",
    "    \n",
    "\tprice.append(i.find_all('div', class_='_7ac32433').text.strip())\n",
    "\tlocation.append(i.find_all('div', class_='_162e6469').text.strip())\n",
    "\ttitle.append(i.find_all('h', class_='c0df3811'))\n",
    "\tdiscription.append(i.find_all('div', class_='cf36e19e'))\n",
    "\tposted.append(i.find_all('div', class_='_08b01580'))\n",
    "#d={'title':title ,'price ':price,'location':location, 'discription ':discription , 'posted':posted,}\n",
    "#df=pd.DataFrame(d)\n",
    "#df\n",
    "posted\n",
    "\n",
    "    "
   ]
  },
  {
   "cell_type": "code",
   "execution_count": 26,
   "id": "51c362a2",
   "metadata": {},
   "outputs": [
    {
     "ename": "AttributeError",
     "evalue": "'NoneType' object has no attribute 'text'",
     "output_type": "error",
     "traceback": [
      "\u001b[1;31m---------------------------------------------------------------------------\u001b[0m",
      "\u001b[1;31mAttributeError\u001b[0m                            Traceback (most recent call last)",
      "\u001b[1;32m~\\AppData\\Local\\Temp\\ipykernel_8008\\4159705849.py\u001b[0m in \u001b[0;36m<module>\u001b[1;34m\u001b[0m\n\u001b[0;32m     14\u001b[0m \u001b[0mtabel\u001b[0m\u001b[1;33m=\u001b[0m\u001b[0msoup\u001b[0m\u001b[1;33m.\u001b[0m\u001b[0mfind_all\u001b[0m\u001b[1;33m(\u001b[0m\u001b[1;34m'div'\u001b[0m\u001b[1;33m,\u001b[0m\u001b[0mclass_\u001b[0m\u001b[1;33m=\u001b[0m\u001b[1;34m'_1d4d62ed'\u001b[0m\u001b[1;33m)\u001b[0m\u001b[1;33m\u001b[0m\u001b[1;33m\u001b[0m\u001b[0m\n\u001b[0;32m     15\u001b[0m \u001b[1;32mfor\u001b[0m \u001b[0mi\u001b[0m \u001b[1;32min\u001b[0m \u001b[0mtabel\u001b[0m\u001b[1;33m:\u001b[0m\u001b[1;33m\u001b[0m\u001b[1;33m\u001b[0m\u001b[0m\n\u001b[1;32m---> 16\u001b[1;33m     \u001b[0mprice\u001b[0m\u001b[1;33m.\u001b[0m\u001b[0mappend\u001b[0m\u001b[1;33m(\u001b[0m\u001b[0mi\u001b[0m\u001b[1;33m.\u001b[0m\u001b[0mfind\u001b[0m\u001b[1;33m(\u001b[0m\u001b[1;34m'div'\u001b[0m\u001b[1;33m,\u001b[0m \u001b[0mclass_\u001b[0m\u001b[1;33m=\u001b[0m\u001b[1;34m'_7ac32433'\u001b[0m\u001b[1;33m)\u001b[0m\u001b[1;33m.\u001b[0m\u001b[0mtext\u001b[0m\u001b[1;33m.\u001b[0m\u001b[0mstrip\u001b[0m\u001b[1;33m(\u001b[0m\u001b[1;33m)\u001b[0m\u001b[1;33m)\u001b[0m\u001b[1;33m\u001b[0m\u001b[1;33m\u001b[0m\u001b[0m\n\u001b[0m\u001b[0;32m     17\u001b[0m \u001b[0mprint\u001b[0m\u001b[1;33m(\u001b[0m\u001b[0mprice\u001b[0m\u001b[1;33m)\u001b[0m\u001b[1;33m\u001b[0m\u001b[1;33m\u001b[0m\u001b[0m\n",
      "\u001b[1;31mAttributeError\u001b[0m: 'NoneType' object has no attribute 'text'"
     ]
    }
   ],
   "source": [
    "import requests\n",
    "import pandas as pd\n",
    "import numpy as np\n",
    "from bs4 import BeautifulSoup\n",
    "\n",
    "location =[]\n",
    "price =[]\n",
    "title =[]\n",
    "posted =[]\n",
    "discription =[]\n",
    "url='https://www.zameen.com/Homes/Islamabad-3-1.html'\n",
    "data=requests.get(url).text\n",
    "soup=BeautifulSoup(data,'lxml')\n",
    "tabel=soup.find_all('div',class_='_1d4d62ed')\n",
    "for i in tabel:\n",
    "    price.append(i.find('div', class_='_7ac32433').text.strip())\n",
    "print(price)"
   ]
  },
  {
   "cell_type": "code",
   "execution_count": 5,
   "id": "3289e1dd",
   "metadata": {},
   "outputs": [
    {
     "name": "stdout",
     "output_type": "stream",
     "text": [
      "[<img alt=\"\" class=\"attachment-woocommerce_thumbnail size-woocommerce_thumbnail\" decoding=\"async\" height=\"300\" sizes=\"(max-width: 300px) 100vw, 300px\" src=\"https://dev-dgrtechlabs.co/onda/wp-content/uploads/2022/09/Cam_blan_fr-1-300x300.png\" srcset=\"https://dev-dgrtechlabs.co/onda/wp-content/uploads/2022/09/Cam_blan_fr-1-300x300.png 300w, https://dev-dgrtechlabs.co/onda/wp-content/uploads/2022/09/Cam_blan_fr-1-150x150.png 150w, https://dev-dgrtechlabs.co/onda/wp-content/uploads/2022/09/Cam_blan_fr-1-90x90.png 90w\" width=\"300\"/>]\n",
      "[<img alt=\"\" class=\"attachment-woocommerce_thumbnail size-woocommerce_thumbnail\" decoding=\"async\" height=\"300\" sizes=\"(max-width: 300px) 100vw, 300px\" src=\"https://dev-dgrtechlabs.co/onda/wp-content/uploads/2022/09/HB_blan_FR-1-300x300.png\" srcset=\"https://dev-dgrtechlabs.co/onda/wp-content/uploads/2022/09/HB_blan_FR-1-300x300.png 300w, https://dev-dgrtechlabs.co/onda/wp-content/uploads/2022/09/HB_blan_FR-1-150x150.png 150w, https://dev-dgrtechlabs.co/onda/wp-content/uploads/2022/09/HB_blan_FR-1-90x90.png 90w\" width=\"300\"/>]\n",
      "[<img alt=\"\" class=\"attachment-woocommerce_thumbnail size-woocommerce_thumbnail\" decoding=\"async\" height=\"300\" sizes=\"(max-width: 300px) 100vw, 300px\" src=\"https://dev-dgrtechlabs.co/onda/wp-content/uploads/2022/09/O-7022-300x300.png\" srcset=\"https://dev-dgrtechlabs.co/onda/wp-content/uploads/2022/09/O-7022-300x300.png 300w, https://dev-dgrtechlabs.co/onda/wp-content/uploads/2022/09/O-7022-150x150.png 150w, https://dev-dgrtechlabs.co/onda/wp-content/uploads/2022/09/O-7022-90x90.png 90w\" width=\"300\"/>]\n",
      "[<img alt=\"\" class=\"attachment-woocommerce_thumbnail size-woocommerce_thumbnail\" decoding=\"async\" height=\"300\" sizes=\"(max-width: 300px) 100vw, 300px\" src=\"https://dev-dgrtechlabs.co/onda/wp-content/uploads/2022/09/O-6975-300x300.png\" srcset=\"https://dev-dgrtechlabs.co/onda/wp-content/uploads/2022/09/O-6975-300x300.png 300w, https://dev-dgrtechlabs.co/onda/wp-content/uploads/2022/09/O-6975-150x150.png 150w, https://dev-dgrtechlabs.co/onda/wp-content/uploads/2022/09/O-6975-90x90.png 90w\" width=\"300\"/>]\n",
      "[<img alt=\"\" class=\"attachment-woocommerce_thumbnail size-woocommerce_thumbnail\" decoding=\"async\" height=\"300\" sizes=\"(max-width: 300px) 100vw, 300px\" src=\"https://dev-dgrtechlabs.co/onda/wp-content/uploads/2022/09/O-7004-300x300.png\" srcset=\"https://dev-dgrtechlabs.co/onda/wp-content/uploads/2022/09/O-7004-300x300.png 300w, https://dev-dgrtechlabs.co/onda/wp-content/uploads/2022/09/O-7004-150x150.png 150w, https://dev-dgrtechlabs.co/onda/wp-content/uploads/2022/09/O-7004-90x90.png 90w\" width=\"300\"/>]\n",
      "[<img alt=\"\" class=\"attachment-woocommerce_thumbnail size-woocommerce_thumbnail\" decoding=\"async\" height=\"300\" sizes=\"(max-width: 300px) 100vw, 300px\" src=\"https://dev-dgrtechlabs.co/onda/wp-content/uploads/2022/09/O-7057-300x300.png\" srcset=\"https://dev-dgrtechlabs.co/onda/wp-content/uploads/2022/09/O-7057-300x300.png 300w, https://dev-dgrtechlabs.co/onda/wp-content/uploads/2022/09/O-7057-150x150.png 150w, https://dev-dgrtechlabs.co/onda/wp-content/uploads/2022/09/O-7057-90x90.png 90w\" width=\"300\"/>]\n",
      "[<img alt=\"\" class=\"attachment-woocommerce_thumbnail size-woocommerce_thumbnail\" decoding=\"async\" height=\"300\" sizes=\"(max-width: 300px) 100vw, 300px\" src=\"https://dev-dgrtechlabs.co/onda/wp-content/uploads/2022/09/O-6984-300x300.png\" srcset=\"https://dev-dgrtechlabs.co/onda/wp-content/uploads/2022/09/O-6984-300x300.png 300w, https://dev-dgrtechlabs.co/onda/wp-content/uploads/2022/09/O-6984-150x150.png 150w, https://dev-dgrtechlabs.co/onda/wp-content/uploads/2022/09/O-6984-90x90.png 90w\" width=\"300\"/>]\n",
      "[<img alt=\"\" class=\"attachment-woocommerce_thumbnail size-woocommerce_thumbnail\" decoding=\"async\" height=\"300\" sizes=\"(max-width: 300px) 100vw, 300px\" src=\"https://dev-dgrtechlabs.co/onda/wp-content/uploads/2022/09/O-6958-300x300.png\" srcset=\"https://dev-dgrtechlabs.co/onda/wp-content/uploads/2022/09/O-6958-300x300.png 300w, https://dev-dgrtechlabs.co/onda/wp-content/uploads/2022/09/O-6958-150x150.png 150w, https://dev-dgrtechlabs.co/onda/wp-content/uploads/2022/09/O-6958-90x90.png 90w\" width=\"300\"/>]\n",
      "[<img alt=\"\" class=\"attachment-woocommerce_thumbnail size-woocommerce_thumbnail\" decoding=\"async\" height=\"300\" sizes=\"(max-width: 300px) 100vw, 300px\" src=\"https://dev-dgrtechlabs.co/onda/wp-content/uploads/2022/09/O-6951-300x300.png\" srcset=\"https://dev-dgrtechlabs.co/onda/wp-content/uploads/2022/09/O-6951-300x300.png 300w, https://dev-dgrtechlabs.co/onda/wp-content/uploads/2022/09/O-6951-150x150.png 150w, https://dev-dgrtechlabs.co/onda/wp-content/uploads/2022/09/O-6951-90x90.png 90w\" width=\"300\"/>]\n",
      "[<img alt=\"\" class=\"attachment-woocommerce_thumbnail size-woocommerce_thumbnail\" decoding=\"async\" height=\"300\" sizes=\"(max-width: 300px) 100vw, 300px\" src=\"https://dev-dgrtechlabs.co/onda/wp-content/uploads/2022/09/O-7041-300x300.png\" srcset=\"https://dev-dgrtechlabs.co/onda/wp-content/uploads/2022/09/O-7041-300x300.png 300w, https://dev-dgrtechlabs.co/onda/wp-content/uploads/2022/09/O-7041-150x150.png 150w, https://dev-dgrtechlabs.co/onda/wp-content/uploads/2022/09/O-7041-90x90.png 90w\" width=\"300\"/>]\n",
      "[<img alt=\"\" class=\"attachment-woocommerce_thumbnail size-woocommerce_thumbnail\" decoding=\"async\" height=\"300\" sizes=\"(max-width: 300px) 100vw, 300px\" src=\"https://dev-dgrtechlabs.co/onda/wp-content/uploads/2022/09/O-6979-300x300.png\" srcset=\"https://dev-dgrtechlabs.co/onda/wp-content/uploads/2022/09/O-6979-300x300.png 300w, https://dev-dgrtechlabs.co/onda/wp-content/uploads/2022/09/O-6979-150x150.png 150w, https://dev-dgrtechlabs.co/onda/wp-content/uploads/2022/09/O-6979-90x90.png 90w\" width=\"300\"/>]\n",
      "[<img alt=\"\" class=\"attachment-woocommerce_thumbnail size-woocommerce_thumbnail\" decoding=\"async\" height=\"300\" src=\"https://dev-dgrtechlabs.co/onda/wp-content/uploads/2022/08/3.jpg\" width=\"209\"/>]\n",
      "[<img alt=\"\" class=\"attachment-woocommerce_thumbnail size-woocommerce_thumbnail\" decoding=\"async\" height=\"300\" sizes=\"(max-width: 300px) 100vw, 300px\" src=\"https://dev-dgrtechlabs.co/onda/wp-content/uploads/2022/09/O-6963-300x300.png\" srcset=\"https://dev-dgrtechlabs.co/onda/wp-content/uploads/2022/09/O-6963-300x300.png 300w, https://dev-dgrtechlabs.co/onda/wp-content/uploads/2022/09/O-6963-150x150.png 150w, https://dev-dgrtechlabs.co/onda/wp-content/uploads/2022/09/O-6963-90x90.png 90w\" width=\"300\"/>]\n",
      "[<img alt=\"\" class=\"attachment-woocommerce_thumbnail size-woocommerce_thumbnail\" decoding=\"async\" height=\"300\" sizes=\"(max-width: 300px) 100vw, 300px\" src=\"https://dev-dgrtechlabs.co/onda/wp-content/uploads/2022/09/O-7064-1-300x300.png\" srcset=\"https://dev-dgrtechlabs.co/onda/wp-content/uploads/2022/09/O-7064-1-300x300.png 300w, https://dev-dgrtechlabs.co/onda/wp-content/uploads/2022/09/O-7064-1-150x150.png 150w, https://dev-dgrtechlabs.co/onda/wp-content/uploads/2022/09/O-7064-1-90x90.png 90w\" width=\"300\"/>]\n",
      "[<img alt=\"\" class=\"attachment-woocommerce_thumbnail size-woocommerce_thumbnail\" decoding=\"async\" height=\"300\" sizes=\"(max-width: 300px) 100vw, 300px\" src=\"https://dev-dgrtechlabs.co/onda/wp-content/uploads/2022/09/O-7064-1-300x300.png\" srcset=\"https://dev-dgrtechlabs.co/onda/wp-content/uploads/2022/09/O-7064-1-300x300.png 300w, https://dev-dgrtechlabs.co/onda/wp-content/uploads/2022/09/O-7064-1-150x150.png 150w, https://dev-dgrtechlabs.co/onda/wp-content/uploads/2022/09/O-7064-1-90x90.png 90w\" width=\"300\"/>]\n",
      "[<img alt=\"\" class=\"attachment-woocommerce_thumbnail size-woocommerce_thumbnail\" decoding=\"async\" height=\"300\" src=\"https://dev-dgrtechlabs.co/onda/wp-content/uploads/2022/08/4.jpg\" width=\"209\"/>]\n",
      "[<img alt=\"\" class=\"attachment-medium size-medium\" decoding=\"async\" height=\"300\" loading=\"eager\" src=\"https://dev-dgrtechlabs.co/onda/wp-content/uploads/2022/09/cit_ori_fr-200x300.png\" width=\"200\"/>]\n",
      "[<img alt=\"\" class=\"attachment-medium size-medium\" decoding=\"async\" height=\"300\" loading=\"eager\" src=\"https://dev-dgrtechlabs.co/onda/wp-content/uploads/2022/09/O-7064-1-200x300.png\" width=\"200\"/>]\n",
      "[<img alt=\"\" class=\"attachment-medium size-medium\" decoding=\"async\" height=\"300\" loading=\"eager\" src=\"https://dev-dgrtechlabs.co/onda/wp-content/uploads/2022/09/O-7057-200x300.png\" width=\"200\"/>]\n",
      "[<img alt=\"\" class=\"attachment-medium size-medium\" decoding=\"async\" height=\"300\" loading=\"eager\" src=\"https://dev-dgrtechlabs.co/onda/wp-content/uploads/2022/09/O-7068-1-1-200x300.png\" width=\"200\"/>]\n",
      "[<img alt=\"\" class=\"attachment-medium size-medium\" decoding=\"async\" height=\"300\" loading=\"eager\" src=\"https://dev-dgrtechlabs.co/onda/wp-content/uploads/2022/09/O-6963-200x300.png\" width=\"200\"/>]\n",
      "[<img alt=\"\" class=\"attachment-medium size-medium\" decoding=\"async\" height=\"300\" loading=\"eager\" src=\"https://dev-dgrtechlabs.co/onda/wp-content/uploads/2022/09/O-7033-200x300.png\" width=\"200\"/>]\n",
      "[<img alt=\"\" class=\"attachment-medium size-medium\" decoding=\"async\" height=\"300\" loading=\"eager\" src=\"https://dev-dgrtechlabs.co/onda/wp-content/uploads/2022/09/O-7022-200x300.png\" width=\"200\"/>]\n",
      "[<img alt=\"\" class=\"attachment-medium size-medium\" decoding=\"async\" height=\"300\" loading=\"eager\" src=\"https://dev-dgrtechlabs.co/onda/wp-content/uploads/2022/09/O-6989-200x300.png\" width=\"200\"/>]\n",
      "[<img alt=\"\" class=\"attachment-medium size-medium\" decoding=\"async\" height=\"300\" loading=\"eager\" src=\"https://dev-dgrtechlabs.co/onda/wp-content/uploads/2022/09/O-6975-200x300.png\" width=\"200\"/>]\n",
      "[<img alt=\"\" class=\"attachment-medium size-medium\" decoding=\"async\" height=\"300\" loading=\"eager\" src=\"https://dev-dgrtechlabs.co/onda/wp-content/uploads/2022/09/O-7004-200x300.png\" width=\"200\"/>]\n",
      "[<img alt=\"\" class=\"attachment-medium size-medium\" decoding=\"async\" height=\"300\" loading=\"eager\" src=\"https://dev-dgrtechlabs.co/onda/wp-content/uploads/2022/09/O-7011-200x300.png\" width=\"200\"/>]\n",
      "[<img alt=\"\" class=\"attachment-medium size-medium\" decoding=\"async\" height=\"300\" loading=\"eager\" src=\"https://dev-dgrtechlabs.co/onda/wp-content/uploads/2022/09/O-6984-200x300.png\" width=\"200\"/>]\n"
     ]
    }
   ],
   "source": [
    "import requests\n",
    "import pandas as pd\n",
    "import numpy as np\n",
    "from bs4 import BeautifulSoup\n",
    "url='https://dev-dgrtechlabs.co/onda/onda-products/'\n",
    "data=requests.get(url,'lxml').text\n",
    "soup=BeautifulSoup(data)\n",
    "pic=soup.find_all('li', class_='product')\n",
    "for i in pic:\n",
    "    print(i.find_all('img'))"
   ]
  },
  {
   "cell_type": "code",
   "execution_count": 8,
   "id": "b6efce45",
   "metadata": {},
   "outputs": [
    {
     "data": {
      "text/plain": [
       "40"
      ]
     },
     "execution_count": 8,
     "metadata": {},
     "output_type": "execute_result"
    }
   ],
   "source": [
    "import requests\n",
    "import pandas as pd\n",
    "import numpy as np\n",
    "from bs4 import BeautifulSoup\n",
    "url='https://dev-dgrtechlabs.co/onda/onda-products/'\n",
    "data=requests.get(url,'lxml').text\n",
    "soup=BeautifulSoup(data)\n",
    "pic=soup.find_all('img')\n",
    "len(pic)"
   ]
  },
  {
   "cell_type": "code",
   "execution_count": 19,
   "id": "d483f5e9",
   "metadata": {},
   "outputs": [
    {
     "ename": "MissingSchema",
     "evalue": "Invalid URL 'None': No scheme supplied. Perhaps you meant http://None?",
     "output_type": "error",
     "traceback": [
      "\u001b[1;31m---------------------------------------------------------------------------\u001b[0m",
      "\u001b[1;31mMissingSchema\u001b[0m                             Traceback (most recent call last)",
      "\u001b[1;32m~\\AppData\\Local\\Temp\\ipykernel_8364\\1622569101.py\u001b[0m in \u001b[0;36m<module>\u001b[1;34m\u001b[0m\n\u001b[0;32m     10\u001b[0m \u001b[1;32mfor\u001b[0m \u001b[0mi\u001b[0m \u001b[1;32min\u001b[0m \u001b[0mpic\u001b[0m\u001b[1;33m:\u001b[0m\u001b[1;33m\u001b[0m\u001b[1;33m\u001b[0m\u001b[0m\n\u001b[0;32m     11\u001b[0m     \u001b[0mabc\u001b[0m\u001b[1;33m=\u001b[0m\u001b[0mi\u001b[0m\u001b[1;33m.\u001b[0m\u001b[0mattrs\u001b[0m\u001b[1;33m.\u001b[0m\u001b[0mget\u001b[0m\u001b[1;33m(\u001b[0m\u001b[1;34m\"src\"\u001b[0m\u001b[1;33m)\u001b[0m\u001b[1;33m\u001b[0m\u001b[1;33m\u001b[0m\u001b[0m\n\u001b[1;32m---> 12\u001b[1;33m     \u001b[0mabcimg\u001b[0m\u001b[1;33m=\u001b[0m\u001b[0mrequests\u001b[0m\u001b[1;33m.\u001b[0m\u001b[0mget\u001b[0m\u001b[1;33m(\u001b[0m\u001b[0mabc\u001b[0m\u001b[1;33m)\u001b[0m\u001b[1;33m.\u001b[0m\u001b[0mcontent\u001b[0m\u001b[1;33m\u001b[0m\u001b[1;33m\u001b[0m\u001b[0m\n\u001b[0m\u001b[0;32m     13\u001b[0m \u001b[0mabcimg\u001b[0m\u001b[1;33m\u001b[0m\u001b[1;33m\u001b[0m\u001b[0m\n",
      "\u001b[1;32m~\\anaconda3\\lib\\site-packages\\requests\\api.py\u001b[0m in \u001b[0;36mget\u001b[1;34m(url, params, **kwargs)\u001b[0m\n\u001b[0;32m     71\u001b[0m     \"\"\"\n\u001b[0;32m     72\u001b[0m \u001b[1;33m\u001b[0m\u001b[0m\n\u001b[1;32m---> 73\u001b[1;33m     \u001b[1;32mreturn\u001b[0m \u001b[0mrequest\u001b[0m\u001b[1;33m(\u001b[0m\u001b[1;34m\"get\"\u001b[0m\u001b[1;33m,\u001b[0m \u001b[0murl\u001b[0m\u001b[1;33m,\u001b[0m \u001b[0mparams\u001b[0m\u001b[1;33m=\u001b[0m\u001b[0mparams\u001b[0m\u001b[1;33m,\u001b[0m \u001b[1;33m**\u001b[0m\u001b[0mkwargs\u001b[0m\u001b[1;33m)\u001b[0m\u001b[1;33m\u001b[0m\u001b[1;33m\u001b[0m\u001b[0m\n\u001b[0m\u001b[0;32m     74\u001b[0m \u001b[1;33m\u001b[0m\u001b[0m\n\u001b[0;32m     75\u001b[0m \u001b[1;33m\u001b[0m\u001b[0m\n",
      "\u001b[1;32m~\\anaconda3\\lib\\site-packages\\requests\\api.py\u001b[0m in \u001b[0;36mrequest\u001b[1;34m(method, url, **kwargs)\u001b[0m\n\u001b[0;32m     57\u001b[0m     \u001b[1;31m# cases, and look like a memory leak in others.\u001b[0m\u001b[1;33m\u001b[0m\u001b[1;33m\u001b[0m\u001b[0m\n\u001b[0;32m     58\u001b[0m     \u001b[1;32mwith\u001b[0m \u001b[0msessions\u001b[0m\u001b[1;33m.\u001b[0m\u001b[0mSession\u001b[0m\u001b[1;33m(\u001b[0m\u001b[1;33m)\u001b[0m \u001b[1;32mas\u001b[0m \u001b[0msession\u001b[0m\u001b[1;33m:\u001b[0m\u001b[1;33m\u001b[0m\u001b[1;33m\u001b[0m\u001b[0m\n\u001b[1;32m---> 59\u001b[1;33m         \u001b[1;32mreturn\u001b[0m \u001b[0msession\u001b[0m\u001b[1;33m.\u001b[0m\u001b[0mrequest\u001b[0m\u001b[1;33m(\u001b[0m\u001b[0mmethod\u001b[0m\u001b[1;33m=\u001b[0m\u001b[0mmethod\u001b[0m\u001b[1;33m,\u001b[0m \u001b[0murl\u001b[0m\u001b[1;33m=\u001b[0m\u001b[0murl\u001b[0m\u001b[1;33m,\u001b[0m \u001b[1;33m**\u001b[0m\u001b[0mkwargs\u001b[0m\u001b[1;33m)\u001b[0m\u001b[1;33m\u001b[0m\u001b[1;33m\u001b[0m\u001b[0m\n\u001b[0m\u001b[0;32m     60\u001b[0m \u001b[1;33m\u001b[0m\u001b[0m\n\u001b[0;32m     61\u001b[0m \u001b[1;33m\u001b[0m\u001b[0m\n",
      "\u001b[1;32m~\\anaconda3\\lib\\site-packages\\requests\\sessions.py\u001b[0m in \u001b[0;36mrequest\u001b[1;34m(self, method, url, params, data, headers, cookies, files, auth, timeout, allow_redirects, proxies, hooks, stream, verify, cert, json)\u001b[0m\n\u001b[0;32m    571\u001b[0m             \u001b[0mhooks\u001b[0m\u001b[1;33m=\u001b[0m\u001b[0mhooks\u001b[0m\u001b[1;33m,\u001b[0m\u001b[1;33m\u001b[0m\u001b[1;33m\u001b[0m\u001b[0m\n\u001b[0;32m    572\u001b[0m         )\n\u001b[1;32m--> 573\u001b[1;33m         \u001b[0mprep\u001b[0m \u001b[1;33m=\u001b[0m \u001b[0mself\u001b[0m\u001b[1;33m.\u001b[0m\u001b[0mprepare_request\u001b[0m\u001b[1;33m(\u001b[0m\u001b[0mreq\u001b[0m\u001b[1;33m)\u001b[0m\u001b[1;33m\u001b[0m\u001b[1;33m\u001b[0m\u001b[0m\n\u001b[0m\u001b[0;32m    574\u001b[0m \u001b[1;33m\u001b[0m\u001b[0m\n\u001b[0;32m    575\u001b[0m         \u001b[0mproxies\u001b[0m \u001b[1;33m=\u001b[0m \u001b[0mproxies\u001b[0m \u001b[1;32mor\u001b[0m \u001b[1;33m{\u001b[0m\u001b[1;33m}\u001b[0m\u001b[1;33m\u001b[0m\u001b[1;33m\u001b[0m\u001b[0m\n",
      "\u001b[1;32m~\\anaconda3\\lib\\site-packages\\requests\\sessions.py\u001b[0m in \u001b[0;36mprepare_request\u001b[1;34m(self, request)\u001b[0m\n\u001b[0;32m    482\u001b[0m \u001b[1;33m\u001b[0m\u001b[0m\n\u001b[0;32m    483\u001b[0m         \u001b[0mp\u001b[0m \u001b[1;33m=\u001b[0m \u001b[0mPreparedRequest\u001b[0m\u001b[1;33m(\u001b[0m\u001b[1;33m)\u001b[0m\u001b[1;33m\u001b[0m\u001b[1;33m\u001b[0m\u001b[0m\n\u001b[1;32m--> 484\u001b[1;33m         p.prepare(\n\u001b[0m\u001b[0;32m    485\u001b[0m             \u001b[0mmethod\u001b[0m\u001b[1;33m=\u001b[0m\u001b[0mrequest\u001b[0m\u001b[1;33m.\u001b[0m\u001b[0mmethod\u001b[0m\u001b[1;33m.\u001b[0m\u001b[0mupper\u001b[0m\u001b[1;33m(\u001b[0m\u001b[1;33m)\u001b[0m\u001b[1;33m,\u001b[0m\u001b[1;33m\u001b[0m\u001b[1;33m\u001b[0m\u001b[0m\n\u001b[0;32m    486\u001b[0m             \u001b[0murl\u001b[0m\u001b[1;33m=\u001b[0m\u001b[0mrequest\u001b[0m\u001b[1;33m.\u001b[0m\u001b[0murl\u001b[0m\u001b[1;33m,\u001b[0m\u001b[1;33m\u001b[0m\u001b[1;33m\u001b[0m\u001b[0m\n",
      "\u001b[1;32m~\\anaconda3\\lib\\site-packages\\requests\\models.py\u001b[0m in \u001b[0;36mprepare\u001b[1;34m(self, method, url, headers, files, data, params, auth, cookies, hooks, json)\u001b[0m\n\u001b[0;32m    366\u001b[0m \u001b[1;33m\u001b[0m\u001b[0m\n\u001b[0;32m    367\u001b[0m         \u001b[0mself\u001b[0m\u001b[1;33m.\u001b[0m\u001b[0mprepare_method\u001b[0m\u001b[1;33m(\u001b[0m\u001b[0mmethod\u001b[0m\u001b[1;33m)\u001b[0m\u001b[1;33m\u001b[0m\u001b[1;33m\u001b[0m\u001b[0m\n\u001b[1;32m--> 368\u001b[1;33m         \u001b[0mself\u001b[0m\u001b[1;33m.\u001b[0m\u001b[0mprepare_url\u001b[0m\u001b[1;33m(\u001b[0m\u001b[0murl\u001b[0m\u001b[1;33m,\u001b[0m \u001b[0mparams\u001b[0m\u001b[1;33m)\u001b[0m\u001b[1;33m\u001b[0m\u001b[1;33m\u001b[0m\u001b[0m\n\u001b[0m\u001b[0;32m    369\u001b[0m         \u001b[0mself\u001b[0m\u001b[1;33m.\u001b[0m\u001b[0mprepare_headers\u001b[0m\u001b[1;33m(\u001b[0m\u001b[0mheaders\u001b[0m\u001b[1;33m)\u001b[0m\u001b[1;33m\u001b[0m\u001b[1;33m\u001b[0m\u001b[0m\n\u001b[0;32m    370\u001b[0m         \u001b[0mself\u001b[0m\u001b[1;33m.\u001b[0m\u001b[0mprepare_cookies\u001b[0m\u001b[1;33m(\u001b[0m\u001b[0mcookies\u001b[0m\u001b[1;33m)\u001b[0m\u001b[1;33m\u001b[0m\u001b[1;33m\u001b[0m\u001b[0m\n",
      "\u001b[1;32m~\\anaconda3\\lib\\site-packages\\requests\\models.py\u001b[0m in \u001b[0;36mprepare_url\u001b[1;34m(self, url, params)\u001b[0m\n\u001b[0;32m    437\u001b[0m \u001b[1;33m\u001b[0m\u001b[0m\n\u001b[0;32m    438\u001b[0m         \u001b[1;32mif\u001b[0m \u001b[1;32mnot\u001b[0m \u001b[0mscheme\u001b[0m\u001b[1;33m:\u001b[0m\u001b[1;33m\u001b[0m\u001b[1;33m\u001b[0m\u001b[0m\n\u001b[1;32m--> 439\u001b[1;33m             raise MissingSchema(\n\u001b[0m\u001b[0;32m    440\u001b[0m                 \u001b[1;34mf\"Invalid URL {url!r}: No scheme supplied. \"\u001b[0m\u001b[1;33m\u001b[0m\u001b[1;33m\u001b[0m\u001b[0m\n\u001b[0;32m    441\u001b[0m                 \u001b[1;34mf\"Perhaps you meant http://{url}?\"\u001b[0m\u001b[1;33m\u001b[0m\u001b[1;33m\u001b[0m\u001b[0m\n",
      "\u001b[1;31mMissingSchema\u001b[0m: Invalid URL 'None': No scheme supplied. Perhaps you meant http://None?"
     ]
    }
   ],
   "source": [
    "images =[]\n",
    "import requests\n",
    "import pandas as pd\n",
    "import numpy as np\n",
    "from bs4 import BeautifulSoup\n",
    "url='https://dev-dgrtechlabs.co/onda/onda-products/'\n",
    "data=requests.get(url,'lxml').text\n",
    "soup=BeautifulSoup(data)\n",
    "pic=soup.find_all('li', class_='product')\n",
    "for i in pic:\n",
    "    abc=i.attrs.get(\"src\")\n",
    "    abcimg=requests.get(abc).content\n",
    "abcimg\n"
   ]
  },
  {
   "cell_type": "code",
   "execution_count": 17,
   "id": "12d8dfa7",
   "metadata": {},
   "outputs": [
    {
     "ename": "NameError",
     "evalue": "name 'abcimg' is not defined",
     "output_type": "error",
     "traceback": [
      "\u001b[1;31m---------------------------------------------------------------------------\u001b[0m",
      "\u001b[1;31mNameError\u001b[0m                                 Traceback (most recent call last)",
      "\u001b[1;32m~\\AppData\\Local\\Temp\\ipykernel_8364\\2296380489.py\u001b[0m in \u001b[0;36m<module>\u001b[1;34m\u001b[0m\n\u001b[1;32m----> 1\u001b[1;33m \u001b[0mabcimg\u001b[0m\u001b[1;33m\u001b[0m\u001b[1;33m\u001b[0m\u001b[0m\n\u001b[0m",
      "\u001b[1;31mNameError\u001b[0m: name 'abcimg' is not defined"
     ]
    }
   ],
   "source": [
    "abcimg"
   ]
  },
  {
   "cell_type": "code",
   "execution_count": 28,
   "id": "5b39a57c",
   "metadata": {},
   "outputs": [
    {
     "name": "stdout",
     "output_type": "stream",
     "text": [
      "['https://dev-dgrtechlabs.co/onda/wp-content/uploads/2022/07/Asset-2.png', 'https://dev-dgrtechlabs.co/onda/wp-content/uploads/2022/09/Cam_blan_fr-1-300x300.png', 'https://dev-dgrtechlabs.co/onda/wp-content/uploads/2022/09/HB_blan_FR-1-300x300.png', 'https://dev-dgrtechlabs.co/onda/wp-content/uploads/2022/09/O-7022-300x300.png', 'https://dev-dgrtechlabs.co/onda/wp-content/uploads/2022/09/O-6975-300x300.png', 'https://dev-dgrtechlabs.co/onda/wp-content/uploads/2022/09/O-7004-300x300.png', 'https://dev-dgrtechlabs.co/onda/wp-content/uploads/2022/09/O-7057-300x300.png', 'https://dev-dgrtechlabs.co/onda/wp-content/uploads/2022/09/O-6984-300x300.png', 'https://dev-dgrtechlabs.co/onda/wp-content/uploads/2022/09/O-6958-300x300.png', 'https://dev-dgrtechlabs.co/onda/wp-content/uploads/2022/09/O-6951-300x300.png', 'https://dev-dgrtechlabs.co/onda/wp-content/uploads/2022/09/O-7041-300x300.png', 'https://dev-dgrtechlabs.co/onda/wp-content/uploads/2022/09/O-6979-300x300.png', 'https://dev-dgrtechlabs.co/onda/wp-content/uploads/2022/08/3.jpg', 'https://dev-dgrtechlabs.co/onda/wp-content/uploads/2022/09/O-6963-300x300.png', 'https://dev-dgrtechlabs.co/onda/wp-content/uploads/2022/09/O-7064-1-300x300.png', 'https://dev-dgrtechlabs.co/onda/wp-content/uploads/2022/09/O-7064-1-300x300.png', 'https://dev-dgrtechlabs.co/onda/wp-content/uploads/2022/08/4.jpg', 'https://dev-dgrtechlabs.co/onda/wp-content/uploads/2022/09/cit_ori_fr-200x300.png', 'https://dev-dgrtechlabs.co/onda/wp-content/uploads/2022/09/O-7064-1-200x300.png', 'https://dev-dgrtechlabs.co/onda/wp-content/uploads/2022/09/O-7057-200x300.png', 'https://dev-dgrtechlabs.co/onda/wp-content/uploads/2022/09/O-7068-1-1-200x300.png', 'https://dev-dgrtechlabs.co/onda/wp-content/uploads/2022/09/O-6963-200x300.png', 'https://dev-dgrtechlabs.co/onda/wp-content/uploads/2022/09/O-7033-200x300.png', 'https://dev-dgrtechlabs.co/onda/wp-content/uploads/2022/09/O-7022-200x300.png', 'https://dev-dgrtechlabs.co/onda/wp-content/uploads/2022/09/O-6989-200x300.png', 'https://dev-dgrtechlabs.co/onda/wp-content/uploads/2022/09/O-6975-200x300.png', 'https://dev-dgrtechlabs.co/onda/wp-content/uploads/2022/09/O-7004-200x300.png', 'https://dev-dgrtechlabs.co/onda/wp-content/uploads/2022/09/O-7011-200x300.png', 'https://dev-dgrtechlabs.co/onda/wp-content/uploads/2022/09/O-6984-200x300.png', 'https://dev-dgrtechlabs.co/onda/wp-content/uploads/2022/07/ondanewlogo-1.png', 'https://dev-dgrtechlabs.co/onda/wp-content/uploads/2022/07/ondanewlogo-1.png', 'https://dev-dgrtechlabs.co/onda/wp-content/uploads/2022/07/amex.png', 'https://dev-dgrtechlabs.co/onda/wp-content/uploads/2022/07/apple-pay.png', 'https://dev-dgrtechlabs.co/onda/wp-content/uploads/2022/07/o.png', 'https://dev-dgrtechlabs.co/onda/wp-content/uploads/2022/07/Discover.png', 'https://dev-dgrtechlabs.co/onda/wp-content/uploads/2022/07/FB-pay.png', 'https://dev-dgrtechlabs.co/onda/wp-content/uploads/2022/07/g-pay.png', 'https://dev-dgrtechlabs.co/onda/wp-content/uploads/2022/07/00.png', 'https://dev-dgrtechlabs.co/onda/wp-content/uploads/2022/07/o-pay.png', 'https://dev-dgrtechlabs.co/onda/wp-content/uploads/2022/07/visa.png']\n"
     ]
    }
   ],
   "source": [
    "images =[]\n",
    "import requests\n",
    "import pandas as pd\n",
    "import numpy as np\n",
    "from bs4 import BeautifulSoup\n",
    "url='https://dev-dgrtechlabs.co/onda/onda-products/'\n",
    "data=requests.get(url,'lxml').text\n",
    "soup=BeautifulSoup(data)\n",
    "for link in soup.find_all('img'):\n",
    "    images.append(link.get('src'))\n",
    "print(images)"
   ]
  },
  {
   "cell_type": "code",
   "execution_count": 42,
   "id": "d5119a35",
   "metadata": {},
   "outputs": [
    {
     "ename": "FileNotFoundError",
     "evalue": "[Errno 2] No such file or directory: '<img alt=\"\" class=\"attachment-full size-full wp-image-3256\" height=\"560\" sizes=\"(max-width: 1372px) 100vw, 1372px\" src=\"https://dev-dgrtechlabs.co/onda/wp-content/uploads/2022/07/Asset-2.png\" srcset=\"https://dev-dgrtechlabs.co/onda/wp-content/uploads/2022/07/Asset-2.png 1372w, https://dev-dgrtechlabs.co/onda/wp-content/uploads/2022/07/Asset-2-300x122.png 300w, https://dev-dgrtechlabs.co/onda/wp-content/uploads/2022/07/Asset-2-1024x418.png 1024w, https://dev-dgrtechlabs.co/onda/wp-content/uploads/2022/07/Asset-2-768x313.png 768w, https://dev-dgrtechlabs.co/onda/wp-content/uploads/2022/07/Asset-2-600x245.png 600w\" width=\"1372\"/>.jpeg'",
     "output_type": "error",
     "traceback": [
      "\u001b[1;31m---------------------------------------------------------------------------\u001b[0m",
      "\u001b[1;31mFileNotFoundError\u001b[0m                         Traceback (most recent call last)",
      "\u001b[1;32m~\\AppData\\Local\\Temp\\ipykernel_8364\\673705344.py\u001b[0m in \u001b[0;36m<module>\u001b[1;34m\u001b[0m\n\u001b[0;32m     11\u001b[0m \u001b[1;32mfor\u001b[0m \u001b[0mlink\u001b[0m \u001b[1;32min\u001b[0m \u001b[0msoup\u001b[0m\u001b[1;33m.\u001b[0m\u001b[0mfind_all\u001b[0m\u001b[1;33m(\u001b[0m\u001b[1;34m'img'\u001b[0m\u001b[1;33m)\u001b[0m\u001b[1;33m:\u001b[0m\u001b[1;33m\u001b[0m\u001b[1;33m\u001b[0m\u001b[0m\n\u001b[0;32m     12\u001b[0m     \u001b[0mabc\u001b[0m\u001b[1;33m=\u001b[0m\u001b[0mlink\u001b[0m\u001b[1;33m.\u001b[0m\u001b[0mget\u001b[0m\u001b[1;33m(\u001b[0m\u001b[1;34m'src'\u001b[0m\u001b[1;33m)\u001b[0m\u001b[1;33m\u001b[0m\u001b[1;33m\u001b[0m\u001b[0m\n\u001b[1;32m---> 13\u001b[1;33m     \u001b[0murllib\u001b[0m\u001b[1;33m.\u001b[0m\u001b[0mrequest\u001b[0m\u001b[1;33m.\u001b[0m\u001b[0murlretrieve\u001b[0m\u001b[1;33m(\u001b[0m\u001b[0mabc\u001b[0m\u001b[1;33m,\u001b[0m\u001b[1;34m'{}.jpeg'\u001b[0m\u001b[1;33m.\u001b[0m\u001b[0mformat\u001b[0m\u001b[1;33m(\u001b[0m\u001b[0mlink\u001b[0m\u001b[1;33m)\u001b[0m\u001b[1;33m)\u001b[0m\u001b[1;33m\u001b[0m\u001b[1;33m\u001b[0m\u001b[0m\n\u001b[0m\u001b[0;32m     14\u001b[0m \u001b[1;33m\u001b[0m\u001b[0m\n",
      "\u001b[1;32m~\\anaconda3\\lib\\urllib\\request.py\u001b[0m in \u001b[0;36murlretrieve\u001b[1;34m(url, filename, reporthook, data)\u001b[0m\n\u001b[0;32m    247\u001b[0m         \u001b[1;31m# Handle temporary file setup.\u001b[0m\u001b[1;33m\u001b[0m\u001b[1;33m\u001b[0m\u001b[0m\n\u001b[0;32m    248\u001b[0m         \u001b[1;32mif\u001b[0m \u001b[0mfilename\u001b[0m\u001b[1;33m:\u001b[0m\u001b[1;33m\u001b[0m\u001b[1;33m\u001b[0m\u001b[0m\n\u001b[1;32m--> 249\u001b[1;33m             \u001b[0mtfp\u001b[0m \u001b[1;33m=\u001b[0m \u001b[0mopen\u001b[0m\u001b[1;33m(\u001b[0m\u001b[0mfilename\u001b[0m\u001b[1;33m,\u001b[0m \u001b[1;34m'wb'\u001b[0m\u001b[1;33m)\u001b[0m\u001b[1;33m\u001b[0m\u001b[1;33m\u001b[0m\u001b[0m\n\u001b[0m\u001b[0;32m    250\u001b[0m         \u001b[1;32melse\u001b[0m\u001b[1;33m:\u001b[0m\u001b[1;33m\u001b[0m\u001b[1;33m\u001b[0m\u001b[0m\n\u001b[0;32m    251\u001b[0m             \u001b[0mtfp\u001b[0m \u001b[1;33m=\u001b[0m \u001b[0mtempfile\u001b[0m\u001b[1;33m.\u001b[0m\u001b[0mNamedTemporaryFile\u001b[0m\u001b[1;33m(\u001b[0m\u001b[0mdelete\u001b[0m\u001b[1;33m=\u001b[0m\u001b[1;32mFalse\u001b[0m\u001b[1;33m)\u001b[0m\u001b[1;33m\u001b[0m\u001b[1;33m\u001b[0m\u001b[0m\n",
      "\u001b[1;31mFileNotFoundError\u001b[0m: [Errno 2] No such file or directory: '<img alt=\"\" class=\"attachment-full size-full wp-image-3256\" height=\"560\" sizes=\"(max-width: 1372px) 100vw, 1372px\" src=\"https://dev-dgrtechlabs.co/onda/wp-content/uploads/2022/07/Asset-2.png\" srcset=\"https://dev-dgrtechlabs.co/onda/wp-content/uploads/2022/07/Asset-2.png 1372w, https://dev-dgrtechlabs.co/onda/wp-content/uploads/2022/07/Asset-2-300x122.png 300w, https://dev-dgrtechlabs.co/onda/wp-content/uploads/2022/07/Asset-2-1024x418.png 1024w, https://dev-dgrtechlabs.co/onda/wp-content/uploads/2022/07/Asset-2-768x313.png 768w, https://dev-dgrtechlabs.co/onda/wp-content/uploads/2022/07/Asset-2-600x245.png 600w\" width=\"1372\"/>.jpeg'"
     ]
    }
   ],
   "source": [
    "images =[]\n",
    "import requests\n",
    "import os\n",
    "import pandas as pd\n",
    "import numpy as np\n",
    "import urllib\n",
    "from bs4 import BeautifulSoup\n",
    "url='https://dev-dgrtechlabs.co/onda/onda-products/'\n",
    "data=requests.get(url,'lxml').text\n",
    "soup=BeautifulSoup(data)\n",
    "for link in soup.find_all('img'):\n",
    "    abc=link.get('src')\n",
    "    urllib.request.urlretrieve(abc,'{}.jpeg'.format(link)) \n",
    "    "
   ]
  },
  {
   "cell_type": "code",
   "execution_count": 34,
   "id": "ae3fc280",
   "metadata": {},
   "outputs": [
    {
     "ename": "NameError",
     "evalue": "name 'filename' is not defined",
     "output_type": "error",
     "traceback": [
      "\u001b[1;31m---------------------------------------------------------------------------\u001b[0m",
      "\u001b[1;31mNameError\u001b[0m                                 Traceback (most recent call last)",
      "\u001b[1;32m~\\AppData\\Local\\Temp\\ipykernel_8364\\2793701597.py\u001b[0m in \u001b[0;36m<module>\u001b[1;34m\u001b[0m\n\u001b[0;32m      8\u001b[0m \u001b[0mdata\u001b[0m\u001b[1;33m=\u001b[0m\u001b[0mrequests\u001b[0m\u001b[1;33m.\u001b[0m\u001b[0mget\u001b[0m\u001b[1;33m(\u001b[0m\u001b[0murl\u001b[0m\u001b[1;33m,\u001b[0m\u001b[1;34m'lxml'\u001b[0m\u001b[1;33m)\u001b[0m\u001b[1;33m.\u001b[0m\u001b[0mtext\u001b[0m\u001b[1;33m\u001b[0m\u001b[1;33m\u001b[0m\u001b[0m\n\u001b[0;32m      9\u001b[0m \u001b[0msoup\u001b[0m\u001b[1;33m=\u001b[0m\u001b[0mBeautifulSoup\u001b[0m\u001b[1;33m(\u001b[0m\u001b[0mdata\u001b[0m\u001b[1;33m)\u001b[0m\u001b[1;33m\u001b[0m\u001b[1;33m\u001b[0m\u001b[0m\n\u001b[1;32m---> 10\u001b[1;33m \u001b[0mfilepath\u001b[0m \u001b[1;33m=\u001b[0m \u001b[0mos\u001b[0m\u001b[1;33m.\u001b[0m\u001b[0mpath\u001b[0m\u001b[1;33m.\u001b[0m\u001b[0mjoin\u001b[0m\u001b[1;33m(\u001b[0m\u001b[0mos\u001b[0m\u001b[1;33m.\u001b[0m\u001b[0mgetcwd\u001b[0m\u001b[1;33m(\u001b[0m\u001b[1;33m)\u001b[0m\u001b[1;33m,\u001b[0m \u001b[0mfilename\u001b[0m\u001b[1;33m)\u001b[0m\u001b[1;33m\u001b[0m\u001b[1;33m\u001b[0m\u001b[0m\n\u001b[0m",
      "\u001b[1;31mNameError\u001b[0m: name 'filename' is not defined"
     ]
    }
   ],
   "source": [
    "images =[]\n",
    "import requests\n",
    "import os\n",
    "import pandas as pd\n",
    "import numpy as np\n",
    "from bs4 import BeautifulSoup\n",
    "url='https://dev-dgrtechlabs.co/onda/onda-products/'\n",
    "data=requests.get(url,'lxml').text\n",
    "soup=BeautifulSoup(data)\n",
    "filepath = os.path.join(os.getcwd(), filename)"
   ]
  },
  {
   "cell_type": "code",
   "execution_count": 35,
   "id": "0f107480",
   "metadata": {},
   "outputs": [
    {
     "name": "stdout",
     "output_type": "stream",
     "text": [
      "C:\\Users\\Abc\\Desktop\\Untitled Folder\n"
     ]
    }
   ],
   "source": [
    "current_working_directory = os.getcwd()\n",
    "print(current_working_directory)"
   ]
  },
  {
   "cell_type": "code",
   "execution_count": 39,
   "id": "3bf216fe",
   "metadata": {},
   "outputs": [
    {
     "ename": "SyntaxError",
     "evalue": "invalid syntax (3110044988.py, line 12)",
     "output_type": "error",
     "traceback": [
      "\u001b[1;36m  File \u001b[1;32m\"C:\\Users\\Abc\\AppData\\Local\\Temp\\ipykernel_8364\\3110044988.py\"\u001b[1;36m, line \u001b[1;32m12\u001b[0m\n\u001b[1;33m    with open(Untitled Folder, \"wb\") as c:\u001b[0m\n\u001b[1;37m                       ^\u001b[0m\n\u001b[1;31mSyntaxError\u001b[0m\u001b[1;31m:\u001b[0m invalid syntax\n"
     ]
    }
   ],
   "source": [
    "images =[]\n",
    "import requests\n",
    "import os\n",
    "import pandas as pd\n",
    "import numpy as np\n",
    "from bs4 import BeautifulSoup\n",
    "url='https://dev-dgrtechlabs.co/onda/onda-products/'\n",
    "data=requests.get(url,'lxml').text\n",
    "soup=BeautifulSoup(data)\n",
    "for link in soup.find_all('img'):\n",
    "    print(link.get('src'))\n",
    "with open(Untitled Folder, \"wb\") as c:\n",
    "    f.write(response.content)"
   ]
  },
  {
   "cell_type": "code",
   "execution_count": 53,
   "id": "0560af08",
   "metadata": {},
   "outputs": [
    {
     "ename": "SyntaxError",
     "evalue": "(unicode error) 'unicodeescape' codec can't decode bytes in position 2-3: truncated \\UXXXXXXXX escape (3374497319.py, line 13)",
     "output_type": "error",
     "traceback": [
      "\u001b[1;36m  File \u001b[1;32m\"C:\\Users\\Abc\\AppData\\Local\\Temp\\ipykernel_8364\\3374497319.py\"\u001b[1;36m, line \u001b[1;32m13\u001b[0m\n\u001b[1;33m    urllib.request.urlretrieve(abc,'C:\\Users\\Abc\\Desktop\\Untitled Folder\\test')\u001b[0m\n\u001b[1;37m                                                                              ^\u001b[0m\n\u001b[1;31mSyntaxError\u001b[0m\u001b[1;31m:\u001b[0m (unicode error) 'unicodeescape' codec can't decode bytes in position 2-3: truncated \\UXXXXXXXX escape\n"
     ]
    }
   ],
   "source": [
    "images =[]\n",
    "import requests\n",
    "import os\n",
    "import pandas as pd\n",
    "import numpy as np\n",
    "import urllib\n",
    "from bs4 import BeautifulSoup\n",
    "url='https://dev-dgrtechlabs.co/onda/onda-products/'\n",
    "data=requests.get(url,'lxml').text\n",
    "soup=BeautifulSoup(data)\n",
    "for link in soup.find_all('img'):\n",
    "    abc=link.get('src')\n",
    "    urllib.request.urlretrieve(abc,'C:\\Users\\Abc\\Desktop\\Untitled Folder\\test')\n",
    "                               \n",
    "                               \n",
    "                               "
   ]
  },
  {
   "cell_type": "code",
   "execution_count": 22,
   "id": "b4dc19cf",
   "metadata": {
    "scrolled": true
   },
   "outputs": [
    {
     "ename": "TypeError",
     "evalue": "find() takes no keyword arguments",
     "output_type": "error",
     "traceback": [
      "\u001b[1;31m---------------------------------------------------------------------------\u001b[0m",
      "\u001b[1;31mTypeError\u001b[0m                                 Traceback (most recent call last)",
      "\u001b[1;32m~\\AppData\\Local\\Temp\\ipykernel_8260\\4074099692.py\u001b[0m in \u001b[0;36m<module>\u001b[1;34m\u001b[0m\n\u001b[0;32m      7\u001b[0m \u001b[1;33m\u001b[0m\u001b[0m\n\u001b[0;32m      8\u001b[0m \u001b[1;32mfor\u001b[0m \u001b[0mi\u001b[0m \u001b[1;32min\u001b[0m \u001b[0msoup\u001b[0m\u001b[1;33m:\u001b[0m\u001b[1;33m\u001b[0m\u001b[1;33m\u001b[0m\u001b[0m\n\u001b[1;32m----> 9\u001b[1;33m     \u001b[0mprint\u001b[0m\u001b[1;33m(\u001b[0m\u001b[0mi\u001b[0m\u001b[1;33m.\u001b[0m\u001b[0mfind\u001b[0m\u001b[1;33m(\u001b[0m\u001b[1;34m'img'\u001b[0m\u001b[1;33m,\u001b[0m \u001b[0mclass_\u001b[0m\u001b[1;33m=\u001b[0m\u001b[1;34m'product-image-photo'\u001b[0m\u001b[1;33m)\u001b[0m\u001b[1;33m.\u001b[0m\u001b[0mtext\u001b[0m\u001b[1;33m.\u001b[0m\u001b[0mstrip\u001b[0m\u001b[1;33m(\u001b[0m\u001b[1;33m)\u001b[0m\u001b[1;33m)\u001b[0m\u001b[1;33m\u001b[0m\u001b[1;33m\u001b[0m\u001b[0m\n\u001b[0m\u001b[0;32m     10\u001b[0m \u001b[1;33m\u001b[0m\u001b[0m\n\u001b[0;32m     11\u001b[0m \u001b[0mprint\u001b[0m\u001b[1;33m(\u001b[0m\u001b[1;34m\"ongoing\"\u001b[0m\u001b[1;33m)\u001b[0m\u001b[1;33m\u001b[0m\u001b[1;33m\u001b[0m\u001b[0m\n",
      "\u001b[1;31mTypeError\u001b[0m: find() takes no keyword arguments"
     ]
    }
   ],
   "source": [
    "import requests\n",
    "import os\n",
    "from bs4 import BeautifulSoup\n",
    "url='https://www.babyplanet.pk/nursery/shop-by-category/swaddles-blankets?product_list_limit=60'\n",
    "data=requests.get(url)\n",
    "soup=BeautifulSoup(data.content).text.strip()\n",
    "\n",
    "for i in soup:\n",
    "    print(i.find('img', class_='product-image-photo').text.strip())\n",
    "    \n",
    "print(\"ongoing\")    "
   ]
  },
  {
   "cell_type": "code",
   "execution_count": null,
   "id": "667b71d6",
   "metadata": {},
   "outputs": [],
   "source": [
    "import requests\n",
    "import os\n",
    "from bs4 import BeautifulSoup\n",
    "url='https://www.babyplanet.pk/nursery/shop-by-category/swaddles-blankets?product_list_limit=60'\n",
    "data=requests.get(url)\n",
    "soup=BeautifulSoup(data.content).text.strip()\n"
   ]
  },
  {
   "cell_type": "code",
   "execution_count": 27,
   "id": "03e40606",
   "metadata": {},
   "outputs": [
    {
     "ename": "SyntaxError",
     "evalue": "(unicode error) 'unicodeescape' codec can't decode bytes in position 2-3: truncated \\UXXXXXXXX escape (3176464101.py, line 6)",
     "output_type": "error",
     "traceback": [
      "\u001b[1;36m  File \u001b[1;32m\"C:\\Users\\Abc\\AppData\\Local\\Temp\\ipykernel_8260\\3176464101.py\"\u001b[1;36m, line \u001b[1;32m6\u001b[0m\n\u001b[1;33m    folder_path = \"C:\\Users\\Abc\\Desktop\\Untitled Folder\\images/\"  # the path to the folder where you want to save the images\u001b[0m\n\u001b[1;37m                                                                  ^\u001b[0m\n\u001b[1;31mSyntaxError\u001b[0m\u001b[1;31m:\u001b[0m (unicode error) 'unicodeescape' codec can't decode bytes in position 2-3: truncated \\UXXXXXXXX escape\n"
     ]
    }
   ],
   "source": [
    "import requests\n",
    "from bs4 import BeautifulSoup\n",
    "import os\n",
    "\n",
    "url='https://www.babyplanet.pk/nursery/shop-by-category/swaddles-blankets?product_list_limit=60'  # the URL of the HTML file\n",
    "folder_path = \"C:\\Users\\Abc\\Desktop\\Untitled Folder\\images\\\"  # the path to the folder where you want to save the images\n",
    "\n",
    "response = requests.get(url)  # send a GET request to the URL\n",
    "soup = BeautifulSoup(response.content, \"html.parser\")  # parse the HTML content using BeautifulSoup\n",
    "\n",
    "for img in soup.findAll(\"img\"):  # loop through all the img tags\n",
    "    img_url = img.get(\"src\")  # get the source URL of the image\n",
    "    img_name = os.path.basename(img_url)  # get the base name of the image URL\n",
    "    img_path = os.path.join(folder_path, img_name)  # create the path to the image file in the folder\n",
    "\n",
    "    with open(img_path, \"wb\") as f:\n",
    "        f.write(requests.get(img_url).content)  # download the image and save it to the file\n",
    "\n",
    "print(\"Images downloaded successfully!\")\n"
   ]
  },
  {
   "cell_type": "code",
   "execution_count": null,
   "id": "0d24650f",
   "metadata": {},
   "outputs": [],
   "source": []
  }
 ],
 "metadata": {
  "kernelspec": {
   "display_name": "Python 3 (ipykernel)",
   "language": "python",
   "name": "python3"
  },
  "language_info": {
   "codemirror_mode": {
    "name": "ipython",
    "version": 3
   },
   "file_extension": ".py",
   "mimetype": "text/x-python",
   "name": "python",
   "nbconvert_exporter": "python",
   "pygments_lexer": "ipython3",
   "version": "3.9.13"
  }
 },
 "nbformat": 4,
 "nbformat_minor": 5
}
