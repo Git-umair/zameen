{
 "cells": [
  {
   "cell_type": "code",
   "execution_count": null,
   "id": "867d6f30",
   "metadata": {},
   "outputs": [],
   "source": [
    "def func_demo(number):\n",
    " \"\"\"its my first Function\n",
    "it's created on python power shell\n",
    "posted date is 16 march 2023\"\"\"\n",
    "    \n",
    "    if number%2==0:\n",
    "        return\"even\"\n",
    "    else:\n",
    "        return\"odd\"\n",
    "        \n"
   ]
  }
 ],
 "metadata": {
  "kernelspec": {
   "display_name": "Python 3 (ipykernel)",
   "language": "python",
   "name": "python3"
  },
  "language_info": {
   "codemirror_mode": {
    "name": "ipython",
    "version": 3
   },
   "file_extension": ".py",
   "mimetype": "text/x-python",
   "name": "python",
   "nbconvert_exporter": "python",
   "pygments_lexer": "ipython3",
   "version": "3.9.13"
  }
 },
 "nbformat": 4,
 "nbformat_minor": 5
}
