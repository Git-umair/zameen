{
 "cells": [
  {
   "cell_type": "code",
   "execution_count": 2,
   "id": "8ca352d1",
   "metadata": {},
   "outputs": [
    {
     "name": "stdout",
     "output_type": "stream",
     "text": [
      "Please Enter Your No7\n",
      "Guess higher\n",
      "Please Enter Your No77777\n",
      "Guess lower\n",
      "Please Enter Your No9\n",
      "Guess lower\n",
      "Please Enter Your No8\n",
      "it's your lucky no: 8\n"
     ]
    }
   ],
   "source": [
    "import random\n",
    "jackpot=random.randint(1,10)\n",
    "guess=int(input(\"Please Enter Your No\"))\n",
    "while guess !=jackpot:\n",
    "    if guess<jackpot:\n",
    "        print(\"Guess higher\")\n",
    "    else:\n",
    "        print(\"Guess lower\")\n",
    "    guess=int(input(\"Please Enter Your No\"))    \n",
    "print(\"it's your lucky no:\",+jackpot)"
   ]
  },
  {
   "cell_type": "code",
   "execution_count": 3,
   "id": "ea7c88eb",
   "metadata": {},
   "outputs": [
    {
     "name": "stdout",
     "output_type": "stream",
     "text": [
      "3 5\n"
     ]
    }
   ],
   "source": [
    "a=5\n",
    "b=3\n",
    "a=a+b\n",
    "b=a-b\n",
    "a=a-b\n",
    "print(a,b)"
   ]
  },
  {
   "cell_type": "code",
   "execution_count": 6,
   "id": "752b33c7",
   "metadata": {},
   "outputs": [
    {
     "ename": "TypeError",
     "evalue": "object of type 'Response' has no len()",
     "output_type": "error",
     "traceback": [
      "\u001b[1;31m---------------------------------------------------------------------------\u001b[0m",
      "\u001b[1;31mTypeError\u001b[0m                                 Traceback (most recent call last)",
      "\u001b[1;32m~\\AppData\\Local\\Temp\\ipykernel_7272\\2540592319.py\u001b[0m in \u001b[0;36m<module>\u001b[1;34m\u001b[0m\n\u001b[0;32m     13\u001b[0m \u001b[0mwebpage\u001b[0m\u001b[1;33m=\u001b[0m\u001b[0mrequests\u001b[0m\u001b[1;33m.\u001b[0m\u001b[0mget\u001b[0m\u001b[1;33m(\u001b[0m\u001b[1;34m'https://www.zameen.com/Homes/Lahore-1-1.html'\u001b[0m\u001b[1;33m)\u001b[0m\u001b[1;33m\u001b[0m\u001b[1;33m\u001b[0m\u001b[0m\n\u001b[0;32m     14\u001b[0m \u001b[1;33m\u001b[0m\u001b[0m\n\u001b[1;32m---> 15\u001b[1;33m \u001b[0msoup\u001b[0m\u001b[1;33m=\u001b[0m\u001b[0mBeautifulSoup\u001b[0m\u001b[1;33m(\u001b[0m\u001b[0mwebpage\u001b[0m\u001b[1;33m,\u001b[0m\u001b[1;34m'lxml'\u001b[0m\u001b[1;33m)\u001b[0m\u001b[1;33m\u001b[0m\u001b[1;33m\u001b[0m\u001b[0m\n\u001b[0m\u001b[0;32m     16\u001b[0m \u001b[0mdata\u001b[0m\u001b[1;33m=\u001b[0m\u001b[1;33m(\u001b[0m\u001b[0msoup\u001b[0m\u001b[1;33m.\u001b[0m\u001b[0mfind_all\u001b[0m\u001b[1;33m(\u001b[0m\u001b[1;34m'div'\u001b[0m\u001b[1;33m,\u001b[0m\u001b[0mclass_\u001b[0m\u001b[1;33m=\u001b[0m\u001b[1;34m'_1d4d62ed'\u001b[0m\u001b[1;33m)\u001b[0m\u001b[1;33m)\u001b[0m\u001b[1;33m\u001b[0m\u001b[1;33m\u001b[0m\u001b[0m\n\u001b[0;32m     17\u001b[0m \u001b[1;33m\u001b[0m\u001b[0m\n",
      "\u001b[1;32m~\\anaconda3\\lib\\site-packages\\bs4\\__init__.py\u001b[0m in \u001b[0;36m__init__\u001b[1;34m(self, markup, features, builder, parse_only, from_encoding, exclude_encodings, element_classes, **kwargs)\u001b[0m\n\u001b[0;32m    311\u001b[0m         \u001b[1;32mif\u001b[0m \u001b[0mhasattr\u001b[0m\u001b[1;33m(\u001b[0m\u001b[0mmarkup\u001b[0m\u001b[1;33m,\u001b[0m \u001b[1;34m'read'\u001b[0m\u001b[1;33m)\u001b[0m\u001b[1;33m:\u001b[0m        \u001b[1;31m# It's a file-type object.\u001b[0m\u001b[1;33m\u001b[0m\u001b[1;33m\u001b[0m\u001b[0m\n\u001b[0;32m    312\u001b[0m             \u001b[0mmarkup\u001b[0m \u001b[1;33m=\u001b[0m \u001b[0mmarkup\u001b[0m\u001b[1;33m.\u001b[0m\u001b[0mread\u001b[0m\u001b[1;33m(\u001b[0m\u001b[1;33m)\u001b[0m\u001b[1;33m\u001b[0m\u001b[1;33m\u001b[0m\u001b[0m\n\u001b[1;32m--> 313\u001b[1;33m         elif len(markup) <= 256 and (\n\u001b[0m\u001b[0;32m    314\u001b[0m                 \u001b[1;33m(\u001b[0m\u001b[0misinstance\u001b[0m\u001b[1;33m(\u001b[0m\u001b[0mmarkup\u001b[0m\u001b[1;33m,\u001b[0m \u001b[0mbytes\u001b[0m\u001b[1;33m)\u001b[0m \u001b[1;32mand\u001b[0m \u001b[1;32mnot\u001b[0m \u001b[1;34mb'<'\u001b[0m \u001b[1;32min\u001b[0m \u001b[0mmarkup\u001b[0m\u001b[1;33m)\u001b[0m\u001b[1;33m\u001b[0m\u001b[1;33m\u001b[0m\u001b[0m\n\u001b[0;32m    315\u001b[0m                 \u001b[1;32mor\u001b[0m \u001b[1;33m(\u001b[0m\u001b[0misinstance\u001b[0m\u001b[1;33m(\u001b[0m\u001b[0mmarkup\u001b[0m\u001b[1;33m,\u001b[0m \u001b[0mstr\u001b[0m\u001b[1;33m)\u001b[0m \u001b[1;32mand\u001b[0m \u001b[1;32mnot\u001b[0m \u001b[1;34m'<'\u001b[0m \u001b[1;32min\u001b[0m \u001b[0mmarkup\u001b[0m\u001b[1;33m)\u001b[0m\u001b[1;33m\u001b[0m\u001b[1;33m\u001b[0m\u001b[0m\n",
      "\u001b[1;31mTypeError\u001b[0m: object of type 'Response' has no len()"
     ]
    }
   ],
   "source": [
    "price =[]\n",
    "location =[]\n",
    "area = []\n",
    "washroom=[]\n",
    "bed=[]\n",
    "discription =[]\n",
    "\n",
    "import pandas as pd\n",
    "import requests\n",
    "from bs4 import BeautifulSoup\n",
    "import numpy as np\n",
    "\n",
    "webpage=requests.get('https://www.zameen.com/Homes/Lahore-1-1.html')\n",
    "\n",
    "soup=BeautifulSoup(webpage,'lxml')\n",
    "data=(soup.find_all('div',class_='_1d4d62ed'))\n",
    "\n",
    "for i in data:\n",
    "    location.append(i.find('div', class_=\"_162e6469\").text.strip())\n",
    "    print(i.find('span', class_=\"b133f61d\").text.strip())\n",
    "    washroom.append(i.find('span', class_=\"b133f61d\").text.strip())\n",
    "    price.append(i.find('div',class_='_7ac32433').text.strip())\n",
    "    area.append(i.find('h2').text.strip())\n",
    "    discription.append(i.find('span', class_='b779b320').text.strip())\n",
    "d={'property':area, 'location':location, 'price':price, 'discription':discription}\n",
    "    \n",
    "    \n",
    "df=pd.DataFrame(d)\n",
    "df"
   ]
  },
  {
   "cell_type": "code",
   "execution_count": 19,
   "id": "3275d8f9",
   "metadata": {},
   "outputs": [
    {
     "ename": "TypeError",
     "evalue": "object of type 'Response' has no len()",
     "output_type": "error",
     "traceback": [
      "\u001b[1;31m---------------------------------------------------------------------------\u001b[0m",
      "\u001b[1;31mTypeError\u001b[0m                                 Traceback (most recent call last)",
      "\u001b[1;32m~\\AppData\\Local\\Temp\\ipykernel_7052\\1803452224.py\u001b[0m in \u001b[0;36m<module>\u001b[1;34m\u001b[0m\n\u001b[0;32m     13\u001b[0m \u001b[0mwebpage\u001b[0m\u001b[1;33m=\u001b[0m\u001b[0mrequests\u001b[0m\u001b[1;33m.\u001b[0m\u001b[0mget\u001b[0m\u001b[1;33m(\u001b[0m\u001b[1;34m'https://www.zameen.com/Homes/Lahore-1-1.html'\u001b[0m\u001b[1;33m)\u001b[0m\u001b[1;33m\u001b[0m\u001b[1;33m\u001b[0m\u001b[0m\n\u001b[0;32m     14\u001b[0m \u001b[1;33m\u001b[0m\u001b[0m\n\u001b[1;32m---> 15\u001b[1;33m \u001b[0msoup\u001b[0m\u001b[1;33m=\u001b[0m\u001b[0mBeautifulSoup\u001b[0m\u001b[1;33m(\u001b[0m\u001b[0mwebpage\u001b[0m\u001b[1;33m,\u001b[0m\u001b[1;34m'lxml'\u001b[0m\u001b[1;33m)\u001b[0m\u001b[1;33m\u001b[0m\u001b[1;33m\u001b[0m\u001b[0m\n\u001b[0m\u001b[0;32m     16\u001b[0m \u001b[0mdata\u001b[0m\u001b[1;33m=\u001b[0m\u001b[1;33m(\u001b[0m\u001b[0msoup\u001b[0m\u001b[1;33m.\u001b[0m\u001b[0mfind_all\u001b[0m\u001b[1;33m(\u001b[0m\u001b[1;34m'div'\u001b[0m\u001b[1;33m,\u001b[0m\u001b[0mclass_\u001b[0m\u001b[1;33m=\u001b[0m\u001b[1;34m'_1d4d62ed'\u001b[0m\u001b[1;33m)\u001b[0m\u001b[1;33m)\u001b[0m\u001b[1;33m\u001b[0m\u001b[1;33m\u001b[0m\u001b[0m\n\u001b[0;32m     17\u001b[0m \u001b[1;33m\u001b[0m\u001b[0m\n",
      "\u001b[1;32m~\\anaconda3\\lib\\site-packages\\bs4\\__init__.py\u001b[0m in \u001b[0;36m__init__\u001b[1;34m(self, markup, features, builder, parse_only, from_encoding, exclude_encodings, element_classes, **kwargs)\u001b[0m\n\u001b[0;32m    311\u001b[0m         \u001b[1;32mif\u001b[0m \u001b[0mhasattr\u001b[0m\u001b[1;33m(\u001b[0m\u001b[0mmarkup\u001b[0m\u001b[1;33m,\u001b[0m \u001b[1;34m'read'\u001b[0m\u001b[1;33m)\u001b[0m\u001b[1;33m:\u001b[0m        \u001b[1;31m# It's a file-type object.\u001b[0m\u001b[1;33m\u001b[0m\u001b[1;33m\u001b[0m\u001b[0m\n\u001b[0;32m    312\u001b[0m             \u001b[0mmarkup\u001b[0m \u001b[1;33m=\u001b[0m \u001b[0mmarkup\u001b[0m\u001b[1;33m.\u001b[0m\u001b[0mread\u001b[0m\u001b[1;33m(\u001b[0m\u001b[1;33m)\u001b[0m\u001b[1;33m\u001b[0m\u001b[1;33m\u001b[0m\u001b[0m\n\u001b[1;32m--> 313\u001b[1;33m         elif len(markup) <= 256 and (\n\u001b[0m\u001b[0;32m    314\u001b[0m                 \u001b[1;33m(\u001b[0m\u001b[0misinstance\u001b[0m\u001b[1;33m(\u001b[0m\u001b[0mmarkup\u001b[0m\u001b[1;33m,\u001b[0m \u001b[0mbytes\u001b[0m\u001b[1;33m)\u001b[0m \u001b[1;32mand\u001b[0m \u001b[1;32mnot\u001b[0m \u001b[1;34mb'<'\u001b[0m \u001b[1;32min\u001b[0m \u001b[0mmarkup\u001b[0m\u001b[1;33m)\u001b[0m\u001b[1;33m\u001b[0m\u001b[1;33m\u001b[0m\u001b[0m\n\u001b[0;32m    315\u001b[0m                 \u001b[1;32mor\u001b[0m \u001b[1;33m(\u001b[0m\u001b[0misinstance\u001b[0m\u001b[1;33m(\u001b[0m\u001b[0mmarkup\u001b[0m\u001b[1;33m,\u001b[0m \u001b[0mstr\u001b[0m\u001b[1;33m)\u001b[0m \u001b[1;32mand\u001b[0m \u001b[1;32mnot\u001b[0m \u001b[1;34m'<'\u001b[0m \u001b[1;32min\u001b[0m \u001b[0mmarkup\u001b[0m\u001b[1;33m)\u001b[0m\u001b[1;33m\u001b[0m\u001b[1;33m\u001b[0m\u001b[0m\n",
      "\u001b[1;31mTypeError\u001b[0m: object of type 'Response' has no len()"
     ]
    }
   ],
   "source": [
    "price =[]\n",
    "location =[]\n",
    "area = []\n",
    "washroom=[]\n",
    "bed=[]\n",
    "discription =[]\n",
    "\n",
    "import pandas as pd\n",
    "import requests\n",
    "from bs4 import BeautifulSoup\n",
    "import numpy as np\n",
    "\n",
    "webpage=requests.get('https://www.zameen.com/Homes/Lahore-1-1.html')\n",
    "\n",
    "soup=BeautifulSoup(webpage,'lxml')\n",
    "data=(soup.find_all('div',class_='_1d4d62ed'))\n",
    "\n",
    "for i in data:\n",
    "    print(i.find('span', class_=\"b133f61d\"))\n",
    "    print(i.find('span', class_=\"b133f61d\").text)\n"
   ]
  },
  {
   "cell_type": "code",
   "execution_count": 52,
   "id": "8d560c60",
   "metadata": {},
   "outputs": [
    {
     "ename": "NameError",
     "evalue": "name 'room' is not defined",
     "output_type": "error",
     "traceback": [
      "\u001b[1;31m---------------------------------------------------------------------------\u001b[0m",
      "\u001b[1;31mNameError\u001b[0m                                 Traceback (most recent call last)",
      "\u001b[1;32m~\\AppData\\Local\\Temp\\ipykernel_7052\\44498890.py\u001b[0m in \u001b[0;36m<module>\u001b[1;34m\u001b[0m\n\u001b[0;32m     20\u001b[0m     \u001b[0mlocation\u001b[0m\u001b[1;33m.\u001b[0m\u001b[0mappend\u001b[0m\u001b[1;33m(\u001b[0m\u001b[0mi\u001b[0m\u001b[1;33m.\u001b[0m\u001b[0mfind\u001b[0m\u001b[1;33m(\u001b[0m\u001b[1;34m'div'\u001b[0m\u001b[1;33m,\u001b[0m \u001b[0mclass_\u001b[0m\u001b[1;33m=\u001b[0m\u001b[1;34m'_162e6469'\u001b[0m\u001b[1;33m)\u001b[0m\u001b[1;33m)\u001b[0m\u001b[1;33m\u001b[0m\u001b[1;33m\u001b[0m\u001b[0m\n\u001b[0;32m     21\u001b[0m     \u001b[0mbed\u001b[0m\u001b[1;33m.\u001b[0m\u001b[0mappend\u001b[0m\u001b[1;33m(\u001b[0m\u001b[0mi\u001b[0m\u001b[1;33m.\u001b[0m\u001b[0mfind\u001b[0m\u001b[1;33m(\u001b[0m\u001b[1;34m'span'\u001b[0m\u001b[1;33m,\u001b[0m \u001b[0mclass_\u001b[0m\u001b[1;33m=\u001b[0m\u001b[1;34m'b133f61d'\u001b[0m\u001b[1;33m)\u001b[0m\u001b[1;33m.\u001b[0m\u001b[0mtext\u001b[0m\u001b[1;33m.\u001b[0m\u001b[0mstrip\u001b[0m\u001b[1;33m(\u001b[0m\u001b[1;33m)\u001b[0m\u001b[1;33m)\u001b[0m\u001b[1;33m\u001b[0m\u001b[1;33m\u001b[0m\u001b[0m\n\u001b[1;32m---> 22\u001b[1;33m \u001b[0mprint\u001b[0m\u001b[1;33m(\u001b[0m\u001b[1;34m\"room, {}\"\u001b[0m\u001b[1;33m.\u001b[0m\u001b[0mformat\u001b[0m\u001b[1;33m(\u001b[0m\u001b[0mroom\u001b[0m\u001b[1;33m)\u001b[0m\u001b[1;33m)\u001b[0m\u001b[1;33m\u001b[0m\u001b[1;33m\u001b[0m\u001b[0m\n\u001b[0m",
      "\u001b[1;31mNameError\u001b[0m: name 'room' is not defined"
     ]
    }
   ],
   "source": [
    "price =[]\n",
    "location =[]\n",
    "area = []\n",
    "washroom=[]\n",
    "bed=[]\n",
    "discription =[]\n",
    "\n",
    "import pandas as pd\n",
    "import requests\n",
    "from bs4 import BeautifulSoup\n",
    "import numpy as np\n",
    "\n",
    "url='https://www.zameen.com/Homes/Islamabad-3-1.html'\n",
    "data=requests.get(url).text\n",
    "soup=BeautifulSoup(data,'html')\n",
    "\n",
    "container=(soup.find_all('div', class_='_1d4d62ed'))\n",
    "for i in container:\n",
    "    price.append(i.find('div', class_='_7ac32433'))\n",
    "    location.append(i.find('div', class_='_162e6469'))\n",
    "    bed.append(i.find('span', class_='b133f61d').text.strip())\n",
    "print(\"room, {}\".format(room)) "
   ]
  },
  {
   "cell_type": "code",
   "execution_count": 50,
   "id": "83d10a87",
   "metadata": {},
   "outputs": [
    {
     "ename": "NameError",
     "evalue": "name 'room' is not defined",
     "output_type": "error",
     "traceback": [
      "\u001b[1;31m---------------------------------------------------------------------------\u001b[0m",
      "\u001b[1;31mNameError\u001b[0m                                 Traceback (most recent call last)",
      "\u001b[1;32m~\\AppData\\Local\\Temp\\ipykernel_7052\\919388895.py\u001b[0m in \u001b[0;36m<module>\u001b[1;34m\u001b[0m\n\u001b[1;32m----> 1\u001b[1;33m \u001b[0mprint\u001b[0m\u001b[1;33m(\u001b[0m\u001b[1;34m\"room, {}\"\u001b[0m\u001b[1;33m.\u001b[0m\u001b[0mformat\u001b[0m\u001b[1;33m(\u001b[0m\u001b[0mroom\u001b[0m\u001b[1;33m)\u001b[0m\u001b[1;33m)\u001b[0m\u001b[1;33m\u001b[0m\u001b[1;33m\u001b[0m\u001b[0m\n\u001b[0m",
      "\u001b[1;31mNameError\u001b[0m: name 'room' is not defined"
     ]
    }
   ],
   "source": [
    "print(\"room, {}\".format(room))"
   ]
  },
  {
   "cell_type": "code",
   "execution_count": 51,
   "id": "71a14584",
   "metadata": {},
   "outputs": [
    {
     "name": "stdout",
     "output_type": "stream",
     "text": [
      "What is your name? umari\n"
     ]
    },
    {
     "ename": "NameError",
     "evalue": "name 'room' is not defined",
     "output_type": "error",
     "traceback": [
      "\u001b[1;31m---------------------------------------------------------------------------\u001b[0m",
      "\u001b[1;31mNameError\u001b[0m                                 Traceback (most recent call last)",
      "\u001b[1;32m~\\AppData\\Local\\Temp\\ipykernel_7052\\3532666545.py\u001b[0m in \u001b[0;36m<module>\u001b[1;34m\u001b[0m\n\u001b[0;32m      1\u001b[0m \u001b[0mname\u001b[0m \u001b[1;33m=\u001b[0m \u001b[0minput\u001b[0m\u001b[1;33m(\u001b[0m\u001b[1;34m\"What is your name? \"\u001b[0m\u001b[1;33m)\u001b[0m\u001b[1;33m\u001b[0m\u001b[1;33m\u001b[0m\u001b[0m\n\u001b[1;32m----> 2\u001b[1;33m \u001b[0mprint\u001b[0m\u001b[1;33m(\u001b[0m\u001b[1;34m\"room, {}\"\u001b[0m\u001b[1;33m.\u001b[0m\u001b[0mformat\u001b[0m\u001b[1;33m(\u001b[0m\u001b[0mroom\u001b[0m\u001b[1;33m)\u001b[0m\u001b[1;33m)\u001b[0m\u001b[1;33m\u001b[0m\u001b[1;33m\u001b[0m\u001b[0m\n\u001b[0m",
      "\u001b[1;31mNameError\u001b[0m: name 'room' is not defined"
     ]
    }
   ],
   "source": [
    "\n",
    "print(\"room, {}\".format(room))"
   ]
  },
  {
   "cell_type": "code",
   "execution_count": 49,
   "id": "b2e996cd",
   "metadata": {},
   "outputs": [
    {
     "name": "stdout",
     "output_type": "stream",
     "text": [
      "What is your name? umair\n"
     ]
    },
    {
     "ename": "TypeError",
     "evalue": "bad operand type for unary +: 'str'",
     "output_type": "error",
     "traceback": [
      "\u001b[1;31m---------------------------------------------------------------------------\u001b[0m",
      "\u001b[1;31mTypeError\u001b[0m                                 Traceback (most recent call last)",
      "\u001b[1;32m~\\AppData\\Local\\Temp\\ipykernel_7052\\2400920703.py\u001b[0m in \u001b[0;36m<module>\u001b[1;34m\u001b[0m\n\u001b[0;32m      1\u001b[0m \u001b[0mname\u001b[0m \u001b[1;33m=\u001b[0m \u001b[0minput\u001b[0m\u001b[1;33m(\u001b[0m\u001b[1;34m\"What is your name? \"\u001b[0m\u001b[1;33m)\u001b[0m\u001b[1;33m\u001b[0m\u001b[1;33m\u001b[0m\u001b[0m\n\u001b[1;32m----> 2\u001b[1;33m \u001b[0mprint\u001b[0m\u001b[1;33m(\u001b[0m\u001b[1;34m\"Hello\"\u001b[0m\u001b[1;33m,\u001b[0m\u001b[1;33m+\u001b[0m\u001b[0mname\u001b[0m\u001b[1;33m)\u001b[0m\u001b[1;33m\u001b[0m\u001b[1;33m\u001b[0m\u001b[0m\n\u001b[0m",
      "\u001b[1;31mTypeError\u001b[0m: bad operand type for unary +: 'str'"
     ]
    }
   ],
   "source": [
    "name = input(\"What is your name? \")\n",
    "print(\"Hello\",+name)"
   ]
  },
  {
   "cell_type": "code",
   "execution_count": 57,
   "id": "89f055c0",
   "metadata": {},
   "outputs": [
    {
     "name": "stdout",
     "output_type": "stream",
     "text": [
      "What is your name? umair\n"
     ]
    },
    {
     "ename": "NameError",
     "evalue": "name 'abc' is not defined",
     "output_type": "error",
     "traceback": [
      "\u001b[1;31m---------------------------------------------------------------------------\u001b[0m",
      "\u001b[1;31mNameError\u001b[0m                                 Traceback (most recent call last)",
      "\u001b[1;32m~\\AppData\\Local\\Temp\\ipykernel_7052\\588823314.py\u001b[0m in \u001b[0;36m<module>\u001b[1;34m\u001b[0m\n\u001b[0;32m      1\u001b[0m \u001b[0mname\u001b[0m \u001b[1;33m=\u001b[0m \u001b[0minput\u001b[0m\u001b[1;33m(\u001b[0m\u001b[1;34m\"What is your name? \"\u001b[0m\u001b[1;33m)\u001b[0m\u001b[1;33m\u001b[0m\u001b[1;33m\u001b[0m\u001b[0m\n\u001b[1;32m----> 2\u001b[1;33m \u001b[0mabc\u001b[0m\u001b[1;33m\u001b[0m\u001b[1;33m\u001b[0m\u001b[0m\n\u001b[0m",
      "\u001b[1;31mNameError\u001b[0m: name 'abc' is not defined"
     ]
    }
   ],
   "source": [
    "name = input(\"What is your name? \")\n",
    "abc"
   ]
  },
  {
   "cell_type": "code",
   "execution_count": 61,
   "id": "19af7e1f",
   "metadata": {},
   "outputs": [
    {
     "name": "stdout",
     "output_type": "stream",
     "text": [
      "What is your name? 45542\n",
      "<class 'str'>\n"
     ]
    }
   ],
   "source": [
    "name = input(\"What is your name? \")\n",
    "abc=(\"Hello, {}\".format(name))\n",
    "print(type(abc))"
   ]
  },
  {
   "cell_type": "code",
   "execution_count": 62,
   "id": "968e1cdd",
   "metadata": {},
   "outputs": [
    {
     "name": "stdout",
     "output_type": "stream",
     "text": [
      "5\n",
      "6\n",
      "5\n"
     ]
    }
   ],
   "source": [
    "def g(x):\n",
    "    print(x)\n",
    "    print(x+1)\n",
    "x=5\n",
    "g(x)\n",
    "print(x)"
   ]
  },
  {
   "cell_type": "code",
   "execution_count": 65,
   "id": "01e74473",
   "metadata": {},
   "outputs": [
    {
     "data": {
      "text/plain": [
       "list"
      ]
     },
     "execution_count": 65,
     "metadata": {},
     "output_type": "execute_result"
    }
   ],
   "source": [
    "type([2,3,23,2,])"
   ]
  },
  {
   "cell_type": "code",
   "execution_count": 76,
   "id": "5c90548e",
   "metadata": {},
   "outputs": [
    {
     "data": {
      "text/plain": [
       "'o'"
      ]
     },
     "execution_count": 76,
     "metadata": {},
     "output_type": "execute_result"
    }
   ],
   "source": [
    "a=\"hello\"\n",
    "b=list(a)\n",
    "b[4]\n"
   ]
  },
  {
   "cell_type": "code",
   "execution_count": 78,
   "id": "ca084424",
   "metadata": {},
   "outputs": [
    {
     "name": "stdout",
     "output_type": "stream",
     "text": [
      "Please enter any no:45\n",
      "Please enter any no:45\n"
     ]
    },
    {
     "data": {
      "text/plain": [
       "90"
      ]
     },
     "execution_count": 78,
     "metadata": {},
     "output_type": "execute_result"
    }
   ],
   "source": [
    "num1= int(input(\"Please enter any no:\"))\n",
    "num2= int(input(\"Please enter any no:\"))\n",
    "result=num1 + num2\n",
    "result"
   ]
  },
  {
   "cell_type": "code",
   "execution_count": 84,
   "id": "9fa58068",
   "metadata": {},
   "outputs": [
    {
     "name": "stdout",
     "output_type": "stream",
     "text": [
      "Please enter any no:45\n",
      "Please enter any no:5\n"
     ]
    },
    {
     "data": {
      "text/plain": [
       "40"
      ]
     },
     "execution_count": 84,
     "metadata": {},
     "output_type": "execute_result"
    }
   ],
   "source": [
    "num1= int(input(\"Please enter any no:\"))\n",
    "num2= int(input(\"Please enter any no:\"))\n",
    "result=num1 -num2\n",
    "result"
   ]
  },
  {
   "cell_type": "code",
   "execution_count": 28,
   "id": "3735efc3",
   "metadata": {},
   "outputs": [
    {
     "ename": "TabError",
     "evalue": "inconsistent use of tabs and spaces in indentation (398060137.py, line 7)",
     "output_type": "error",
     "traceback": [
      "\u001b[1;36m  File \u001b[1;32m\"C:\\Users\\Abc\\AppData\\Local\\Temp\\ipykernel_6228\\398060137.py\"\u001b[1;36m, line \u001b[1;32m7\u001b[0m\n\u001b[1;33m    elif email == \"mtl@gmail.com\" and pasword !=\"1234\":\u001b[0m\n\u001b[1;37m    ^\u001b[0m\n\u001b[1;31mTabError\u001b[0m\u001b[1;31m:\u001b[0m inconsistent use of tabs and spaces in indentation\n"
     ]
    }
   ],
   "source": [
    "#mtl@gmail.com pas:1234\n",
    "email=input(\"Plese enter your email\")\n",
    "pasword=input(\"Plese enter your Pasword\")\n",
    "if email == \"mtl@gmail.com\" and pasword ==\"1234\":\n",
    "    print(\"welcome you are loged in\")\n",
    "    \n",
    "\telif email == \"mtl@gmail.com\" and pasword !=\"1234\":\n",
    "\t\tprint(\"Pasword Incorect\")\n",
    "\telif email != \"mtl@gmail.com\" and pasword ==\"1234\":\n",
    "\t\tprint(\"Email Incorect\")\n",
    "    \n",
    "else:\n",
    "    print(\"Wrong Credintials\")"
   ]
  },
  {
   "cell_type": "code",
   "execution_count": 4,
   "id": "72e292b6",
   "metadata": {},
   "outputs": [
    {
     "name": "stdout",
     "output_type": "stream",
     "text": [
      "Please Enter any No:45\n",
      "Guess Lower\n",
      "Please Enter any No:40\n",
      "Guess Lower\n",
      "Please Enter any No:38\n",
      "Guess Lower\n",
      "Please Enter any No:30\n",
      "Guess Lower\n",
      "Please Enter any No:20\n",
      "Guess Lower\n",
      "Please Enter any No:15\n",
      "Guess Lower\n",
      "Please Enter any No:10\n",
      "Guess Higher\n",
      "Please Enter any No:12\n",
      "Guess Lower\n",
      "Please Enter any No:11\n",
      "Genrated No is 11\n",
      "you took is  9 atempts\n"
     ]
    }
   ],
   "source": [
    "import random\n",
    "jackport=random.randint(1,100)\n",
    "guess=int(input(\"Please Enter any No:\"))\n",
    "counter=1\n",
    "while guess!=jackport:\n",
    "    if guess<jackport:\n",
    "        print(\"Guess Higher\")\n",
    "    else:\n",
    "        print(\"Guess Lower\")\n",
    "        \n",
    "    guess=int(input(\"Please Enter any No:\"))   \n",
    "    counter+=100\n",
    "    \n",
    "print(\"Genrated No is\",jackport)\n",
    "print(\"you took is \",counter,\"atempts\")\n",
    "   "
   ]
  },
  {
   "cell_type": "code",
   "execution_count": 9,
   "id": "746efd1d",
   "metadata": {},
   "outputs": [
    {
     "name": "stdout",
     "output_type": "stream",
     "text": [
      "Plsease Enter any no:5\n",
      "*  \n",
      "* *  \n",
      "* * *  \n",
      "* * * *  \n",
      "* * * * *  \n"
     ]
    }
   ],
   "source": [
    "rows=int(input(\"Plsease Enter any no:\"))\n",
    "for i in range (1,rows+1):\n",
    "    for j in range(i):\n",
    "        print(\"*\", end=\" \")\n",
    "    print(\" \")"
   ]
  },
  {
   "cell_type": "code",
   "execution_count": 16,
   "id": "86f3b210",
   "metadata": {},
   "outputs": [
    {
     "name": "stdout",
     "output_type": "stream",
     "text": [
      "* * * * *  \n",
      "* * * * *  \n",
      "* * * * *  \n",
      "* * * * *  \n",
      "* * * * *  \n",
      "* * * * *  \n"
     ]
    }
   ],
   "source": [
    "for i in range(6):\n",
    "    for j in range(5):\n",
    "        print(\"*\", end=\" \")\n",
    "    print(\"\")"
   ]
  },
  {
   "cell_type": "code",
   "execution_count": 19,
   "id": "fac1813c",
   "metadata": {},
   "outputs": [
    {
     "name": "stdout",
     "output_type": "stream",
     "text": [
      "ok\n",
      "* ok\n",
      "* * ok\n",
      "* * * ok\n",
      "* * * * ok\n",
      "* * * * * ok\n"
     ]
    }
   ],
   "source": [
    "for i in range (6):\n",
    "    for j in range(i):\n",
    "        print(\"*\", end=\" \")\n",
    "    print(\"ok\")"
   ]
  },
  {
   "cell_type": "markdown",
   "id": "066e0927",
   "metadata": {},
   "source": [
    "#User will input (2numbers).Write a program to swap the numbers"
   ]
  },
  {
   "cell_type": "code",
   "execution_count": 9,
   "id": "a1ecfb75",
   "metadata": {},
   "outputs": [
    {
     "name": "stdout",
     "output_type": "stream",
     "text": [
      "enter first no:5\n",
      "enter second no:3\n"
     ]
    }
   ],
   "source": [
    "a=int(input(\"enter first no:\"))\n",
    "b=int(input(\"enter second no:\"))\n",
    "a=a+b\n",
    "b=a-b\n",
    "b=a-b\n",
    "            "
   ]
  },
  {
   "cell_type": "code",
   "execution_count": 14,
   "id": "41e9ff22",
   "metadata": {},
   "outputs": [
    {
     "name": "stdout",
     "output_type": "stream",
     "text": [
      "Enter the first number: 5\n",
      "Enter the second number: 3\n",
      "The numbers after swapping are: 3 and 5\n"
     ]
    }
   ],
   "source": [
    "num1 = int(input(\"Enter the first number: \"))\n",
    "num2 = int(input(\"Enter the second number: \"))\n",
    "\n",
    "num1, num2 = num2, num1\n",
    "print(\"The numbers after swapping are: {} and {}\".format(num1, num2))\n",
    "\n"
   ]
  },
  {
   "cell_type": "code",
   "execution_count": 32,
   "id": "596c7310",
   "metadata": {},
   "outputs": [
    {
     "name": "stdout",
     "output_type": "stream",
     "text": [
      "* * aa\n",
      "* * * * "
     ]
    },
    {
     "ename": "IndexError",
     "evalue": "list index out of range",
     "output_type": "error",
     "traceback": [
      "\u001b[1;31m---------------------------------------------------------------------------\u001b[0m",
      "\u001b[1;31mIndexError\u001b[0m                                Traceback (most recent call last)",
      "\u001b[1;32m~\\AppData\\Local\\Temp\\ipykernel_12496\\2972503509.py\u001b[0m in \u001b[0;36m<module>\u001b[1;34m\u001b[0m\n\u001b[0;32m      6\u001b[0m     \u001b[1;32mfor\u001b[0m \u001b[0mj\u001b[0m \u001b[1;32min\u001b[0m \u001b[0mrange\u001b[0m\u001b[1;33m(\u001b[0m\u001b[0mi\u001b[0m\u001b[1;33m)\u001b[0m\u001b[1;33m:\u001b[0m\u001b[1;33m\u001b[0m\u001b[1;33m\u001b[0m\u001b[0m\n\u001b[0;32m      7\u001b[0m         \u001b[0mprint\u001b[0m\u001b[1;33m(\u001b[0m\u001b[1;34m\"*\"\u001b[0m\u001b[1;33m,\u001b[0m\u001b[0mend\u001b[0m\u001b[1;33m=\u001b[0m\u001b[1;34m\" \"\u001b[0m\u001b[1;33m)\u001b[0m\u001b[1;33m\u001b[0m\u001b[1;33m\u001b[0m\u001b[0m\n\u001b[1;32m----> 8\u001b[1;33m     \u001b[0mprint\u001b[0m\u001b[1;33m(\u001b[0m\u001b[0ma\u001b[0m\u001b[1;33m[\u001b[0m\u001b[0mi\u001b[0m\u001b[1;33m]\u001b[0m\u001b[1;33m)\u001b[0m\u001b[1;33m\u001b[0m\u001b[1;33m\u001b[0m\u001b[0m\n\u001b[0m",
      "\u001b[1;31mIndexError\u001b[0m: list index out of range"
     ]
    }
   ],
   "source": [
    "u=\"uu\"\n",
    "m=\"mm\"\n",
    "a=\"aa\"\n",
    "a=[u,m,a]\n",
    "for i  in range(2,6,2):\n",
    "    for j in range(i):\n",
    "        print(\"*\",end=\" \")\n",
    "    print(a[i])"
   ]
  },
  {
   "cell_type": "code",
   "execution_count": 54,
   "id": "34134028",
   "metadata": {},
   "outputs": [
    {
     "data": {
      "text/plain": [
       "'T'"
      ]
     },
     "execution_count": 54,
     "metadata": {},
     "output_type": "execute_result"
    }
   ],
   "source": [
    "max(\"PAKISTAN\")"
   ]
  },
  {
   "cell_type": "code",
   "execution_count": 2,
   "id": "15a4b211",
   "metadata": {},
   "outputs": [
    {
     "name": "stdout",
     "output_type": "stream",
     "text": [
      "Enter the first number: 5\n",
      "Enter the second number: 10\n",
      "Enter the second number: 15\n"
     ]
    },
    {
     "ename": "TypeError",
     "evalue": "'<' not supported between instances of 'builtin_function_or_method' and 'int'",
     "output_type": "error",
     "traceback": [
      "\u001b[1;31m---------------------------------------------------------------------------\u001b[0m",
      "\u001b[1;31mTypeError\u001b[0m                                 Traceback (most recent call last)",
      "\u001b[1;32m~\\AppData\\Local\\Temp\\ipykernel_4108\\3186518451.py\u001b[0m in \u001b[0;36m<module>\u001b[1;34m\u001b[0m\n\u001b[0;32m      3\u001b[0m \u001b[0mc\u001b[0m \u001b[1;33m=\u001b[0m \u001b[0mint\u001b[0m\u001b[1;33m(\u001b[0m\u001b[0minput\u001b[0m\u001b[1;33m(\u001b[0m\u001b[1;34m\"Enter the second number: \"\u001b[0m\u001b[1;33m)\u001b[0m\u001b[1;33m)\u001b[0m\u001b[1;33m\u001b[0m\u001b[1;33m\u001b[0m\u001b[0m\n\u001b[0;32m      4\u001b[0m \u001b[0ma\u001b[0m\u001b[1;33m=\u001b[0m\u001b[0mmax\u001b[0m\u001b[1;33m\u001b[0m\u001b[1;33m\u001b[0m\u001b[0m\n\u001b[1;32m----> 5\u001b[1;33m \u001b[1;32mif\u001b[0m \u001b[0mmax\u001b[0m\u001b[1;33m<\u001b[0m\u001b[0mb\u001b[0m\u001b[1;33m:\u001b[0m\u001b[1;33m\u001b[0m\u001b[1;33m\u001b[0m\u001b[0m\n\u001b[0m\u001b[0;32m      6\u001b[0m     \u001b[0mprint\u001b[0m\u001b[1;33m(\u001b[0m\u001b[0mb\u001b[0m\u001b[1;33m)\u001b[0m\u001b[1;33m\u001b[0m\u001b[1;33m\u001b[0m\u001b[0m\n\u001b[0;32m      7\u001b[0m \u001b[1;32mif\u001b[0m \u001b[0mmax\u001b[0m\u001b[1;33m<\u001b[0m\u001b[0mc\u001b[0m\u001b[1;33m:\u001b[0m\u001b[1;33m\u001b[0m\u001b[1;33m\u001b[0m\u001b[0m\n",
      "\u001b[1;31mTypeError\u001b[0m: '<' not supported between instances of 'builtin_function_or_method' and 'int'"
     ]
    }
   ],
   "source": [
    "a = int(input(\"Enter the first number: \"))\n",
    "b = int(input(\"Enter the second number: \"))\n",
    "c = int(input(\"Enter the second number: \"))\n",
    "a=max\n",
    "if max<b:\n",
    "    print(b)\n",
    "if max<c:\n",
    "    print(c)"
   ]
  },
  {
   "cell_type": "code",
   "execution_count": 56,
   "id": "652fc6da",
   "metadata": {},
   "outputs": [
    {
     "name": "stdout",
     "output_type": "stream",
     "text": [
      "\n",
      "Please wait a moment while I gather a list of all available modules...\n",
      "\n"
     ]
    },
    {
     "name": "stderr",
     "output_type": "stream",
     "text": [
      "C:\\Users\\Abc\\anaconda3\\lib\\site-packages\\IPython\\kernel\\__init__.py:12: ShimWarning: The `IPython.kernel` package has been deprecated since IPython 4.0.You should import from ipykernel or jupyter_client instead.\n",
      "  warn(\"The `IPython.kernel` package has been deprecated since IPython 4.0.\"\n",
      "WARNING: AstropyDeprecationWarning: The private astropy._erfa module has been made into its own package, pyerfa, which is a dependency of astropy and can be imported directly using \"import erfa\" [astropy._erfa]\n",
      "C:\\Users\\Abc\\anaconda3\\lib\\site-packages\\paramiko\\transport.py:219: CryptographyDeprecationWarning: Blowfish has been deprecated\n",
      "  \"class\": algorithms.Blowfish,\n",
      "C:\\Users\\Abc\\anaconda3\\lib\\site-packages\\nltk\\twitter\\__init__.py:20: UserWarning: The twython library has not been installed. Some functionality from the twitter package will not be available.\n",
      "  warnings.warn(\n",
      "C:\\Users\\Abc\\anaconda3\\lib\\site-packages\\_distutils_hack\\__init__.py:33: UserWarning: Setuptools is replacing distutils.\n",
      "  warnings.warn(\"Setuptools is replacing distutils.\")\n",
      "No QCoreApplication instance found. Application patches not applied. You have to call load_stylesheet function after instantiation of QApplication to take effect. \n",
      "C:\\Users\\Abc\\anaconda3\\lib\\pkgutil.py:108: VisibleDeprecationWarning:\n",
      "\n",
      "zmq.eventloop.minitornado is deprecated in pyzmq 14.0 and will be removed.\n",
      "    Install tornado itself to use zmq with the tornado IOLoop.\n",
      "    \n",
      "\n"
     ]
    },
    {
     "name": "stdout",
     "output_type": "stream",
     "text": [
      "Cython              comtypes            mock                socketserver\n",
      "IPython             concurrent          modulefinder        socks\n",
      "OpenSSL             conda               mpmath              sockshandler\n",
      "PIL                 conda_build         msgpack             sortedcollections\n",
      "PyQt5               conda_content_trust msilib              sortedcontainers\n",
      "TBB                 conda_env           msvcrt              soupsieve\n",
      "__future__          conda_pack          multipledispatch    sphinx\n",
      "_abc                conda_package_handling multiprocessing     spyder\n",
      "_aix_support        conda_token         munkres             spyder_kernels\n",
      "_argon2_cffi_bindings conda_verify        mypy_extensions     sqlalchemy\n",
      "_ast                configparser        nacl                sqlite3\n",
      "_asyncio            constantly          navigator_updater   sre_compile\n",
      "_bisect             contextlib          nbclassic           sre_constants\n",
      "_black_version      contextvars         nbclient            sre_parse\n",
      "_blake2             cookiecutter        nbconvert           ssl\n",
      "_bootlocale         copy                nbformat            sspi\n",
      "_bootsubprocess     copyreg             nest_asyncio        sspicon\n",
      "_bz2                crypt               netbios             stat\n",
      "_cffi_backend       cryptography        netrc               statistics\n",
      "_codecs             cssselect           networkx            statsmodels\n",
      "_codecs_cn          csv                 nltk                storemagic\n",
      "_codecs_hk          ctypes              nntplib             string\n",
      "_codecs_iso2022     curl                nose                stringprep\n",
      "_codecs_jp          curses              notebook            struct\n",
      "_codecs_kr          cwp                 nt                  subprocess\n",
      "_codecs_tw          cycler              ntpath              sunau\n",
      "_collections        cython              ntsecuritycon       symbol\n",
      "_collections_abc    cythonmagic         nturl2path          sympy\n",
      "_compat_pickle      cytoolz             numba               sympyprinting\n",
      "_compression        daal4py             numbergen           symtable\n",
      "_contextvars        dask                numbers             sys\n",
      "_csv                dataclasses         numexpr             sysconfig\n",
      "_ctypes             datashader          numpy               tables\n",
      "_ctypes_test        datashape           numpydoc            tabnanny\n",
      "_datetime           datetime            odbc                tabulate\n",
      "_decimal            dateutil            olefile             tarfile\n",
      "_distutils_hack     dbi                 onedal              tbb\n",
      "_elementtree        dbm                 opcode              tblib\n",
      "_functools          dde                 openpyxl            telnetlib\n",
      "_hashlib            debugpy             operator            tempfile\n",
      "_heapq              decimal             optparse            tenacity\n",
      "_imp                decorator           os                  terminado\n",
      "_io                 defusedxml          packaging           test\n",
      "_json               diff_match_patch    pandas              test_pycosat\n",
      "_locale             difflib             pandocfilters       testpath\n",
      "_lsprof             dill                panel               tests\n",
      "_lzma               dis                 param               text_unidecode\n",
      "_markupbase         distributed         paramiko            textdistance\n",
      "_md5                distutils           parsel              textwrap\n",
      "_msi                doctest             parser              this\n",
      "_multibytecodec     docutils            parso               threading\n",
      "_multiprocessing    email               partd               threadpoolctl\n",
      "_nsis               encodings           past                three_merge\n",
      "_opcode             ensurepip           pathlib             tifffile\n",
      "_operator           entrypoints         pathspec            time\n",
      "_osx_support        enum                patsy               timeit\n",
      "_overlapped         erfa                pdb                 timer\n",
      "_peg_parser         errno               pep8                tinycss\n",
      "_pickle             et_xmlfile          perfmon             tkinter\n",
      "_plotly_future_     fastjsonschema      pexpect             tldextract\n",
      "_plotly_utils       faulthandler        pickle              tlz\n",
      "_py_abc             filecmp             pickleshare         token\n",
      "_pydecimal          fileinput           pickletools         tokenize\n",
      "_pyio               filelock            pip                 toml\n",
      "_pyrsistent_version flake8              pipes               tomli\n",
      "_pytest             flask               pkg_resources       tomlkit\n",
      "_queue              fnmatch             pkginfo             toolz\n",
      "_random             fontTools           pkgutil             tornado\n",
      "_ruamel_yaml        formatter           platform            tqdm\n",
      "_sha1               fractions           platformdirs        trace\n",
      "_sha256             fsspec              plistlib            traceback\n",
      "_sha3               ftplib              plotly              tracemalloc\n",
      "_sha512             functools           pluggy              traitlets\n",
      "_signal             future              poplib              tty\n",
      "_sitebuiltins       gc                  posixpath           turtle\n",
      "_socket             genericpath         poyo                turtledemo\n",
      "_sqlite3            gensim              pprint              twisted\n",
      "_sre                getopt              profile             types\n",
      "_ssl                getpass             progressbar         typing\n",
      "_stat               gettext             prometheus_client   typing_extensions\n",
      "_statistics         glob                prompt_toolkit      ujson\n",
      "_string             glob2               protego             unicodedata\n",
      "_strptime           graphlib            pstats              unidecode\n",
      "_struct             greenlet            psutil              unittest\n",
      "_symtable           gzip                pty                 urllib\n",
      "_system_path        h5py                ptyprocess          urllib3\n",
      "_testbuffer         hamcrest            pvectorc            uu\n",
      "_testcapi           hashlib             py                  uuid\n",
      "_testconsole        heapdict            py_compile          venv\n",
      "_testimportmultiple heapq               pyasn1              w3lib\n",
      "_testinternalcapi   hmac                pyasn1_modules      warnings\n",
      "_testmultiphase     holoviews           pyclbr              watchdog\n",
      "_thread             html                pycodestyle         wave\n",
      "_threading_local    http                pycosat             wcwidth\n",
      "_tkinter            hvplot              pycparser           weakref\n",
      "_tracemalloc        hyperlink           pyct                webbrowser\n",
      "_uuid               idlelib             pycurl              webencodings\n",
      "_warnings           idna                pydispatch          websocket\n",
      "_weakref            imagecodecs         pydoc               werkzeug\n",
      "_weakrefset         imageio             pydoc_data          wheel\n",
      "_win32sysloader     imagesize           pydocstyle          widgetsnbextension\n",
      "_winapi             imaplib             pyexpat             win2kras\n",
      "_winxptheme         imghdr              pyflakes            win32api\n",
      "_xxsubinterpreters  imp                 pygments            win32clipboard\n",
      "_yaml               importlib           pylab               win32com\n",
      "_zoneinfo           importlib_metadata  pylint              win32con\n",
      "abc                 incremental         pyls_spyder         win32console\n",
      "adodbapi            inflection          pylsp               win32cred\n",
      "afxres              iniconfig           pylsp_black         win32crypt\n",
      "aifc                inspect             pylsp_jsonrpc       win32cryptcon\n",
      "alabaster           intake              pyodbc              win32ctypes\n",
      "anaconda_navigator  intervaltree        pyparsing           win32event\n",
      "anaconda_project    io                  pyrsistent          win32evtlog\n",
      "antigravity         ipaddress           pytest              win32evtlogutil\n",
      "anyio               ipykernel           pythoncom           win32file\n",
      "appdirs             ipykernel_launcher  pytz                win32gui\n",
      "argon2              ipython_genutils    pyviz_comms         win32gui_struct\n",
      "argparse            ipywidgets          pywin               win32help\n",
      "array               isapi               pywin32_bootstrap   win32inet\n",
      "arrow               isort               pywin32_testutil    win32inetcon\n",
      "ast                 isympy              pywintypes          win32job\n",
      "astroid             itemadapter         pywt                win32lz\n",
      "astropy             itemloaders         pyximport           win32net\n",
      "asynchat            itertools           qdarkstyle          win32netcon\n",
      "asyncio             itsdangerous        qstylizer           win32pdh\n",
      "asyncore            jdcal               qtawesome           win32pdhquery\n",
      "atexit              jedi                qtconsole           win32pdhutil\n",
      "atomicwrites        jellyfish           qtpy                win32pipe\n",
      "attr                jinja2              queue               win32print\n",
      "attrs               jinja2_time         queuelib            win32process\n",
      "audioop             jmespath            quopri              win32profile\n",
      "automat             joblib              random              win32ras\n",
      "autopep8            json                rasutil             win32rcparser\n",
      "autoreload          json5               re                  win32security\n",
      "babel               jsonschema          regcheck            win32service\n",
      "backcall            jupyter             regex               win32serviceutil\n",
      "backports           jupyter_client      regutil             win32timezone\n",
      "base64              jupyter_console     repo_cli            win32trace\n",
      "bcrypt              jupyter_core        reprlib             win32traceutil\n",
      "bdb                 jupyter_server      requests            win32transaction\n",
      "binaryornot         jupyterlab          requests_file       win32ts\n",
      "binascii            jupyterlab_plotly   rlcompleter         win32ui\n",
      "binhex              jupyterlab_pygments rmagic              win32uiole\n",
      "binstar_client      jupyterlab_server   rope                win32verstamp\n",
      "bisect              jupyterlab_widgets  rtree               win32wnet\n",
      "bitarray            jwt                 ruamel_yaml         win_inet_pton\n",
      "bkcharts            keyring             run                 win_unicode_console\n",
      "black               keyword             runpy               wincertstore\n",
      "blackd              kiwisolver          s3transfer          winerror\n",
      "bleach              lazy_object_proxy   sched               winioctlcon\n",
      "blib2to3            lib2to3             scipy               winnt\n",
      "bokeh               libarchive          scrapy              winperf\n",
      "boto3               libfuturize         seaborn             winpty\n",
      "botocore            libpasteurize       secrets             winreg\n",
      "bottleneck          lief                select              winsound\n",
      "brotli              linecache           selectors           winxpgui\n",
      "bs4                 llvmlite            send2trash          winxptheme\n",
      "builtins            locale              service_identity    wrapt\n",
      "bz2                 locket              servicemanager      wsgiref\n",
      "cProfile            logging             setuptools          xarray\n",
      "calendar            lxml                shelve              xdrlib\n",
      "certifi             lz4                 shlex               xlrd\n",
      "cffi                lzma                shutil              xlsxwriter\n",
      "cgi                 magic               signal              xlwings\n",
      "cgitb               mailbox             simple_image_download xml\n",
      "chardet             mailcap             sip                 xmlrpc\n",
      "charset_normalizer  markdown            sipconfig           xxsubtype\n",
      "chunk               markupsafe          sipdistutils        yaml\n",
      "click               marshal             site                yapf\n",
      "cloudpickle         math                six                 yapftests\n",
      "clyent              matplotlib          skimage             zict\n",
      "cmath               matplotlib_inline   sklearn             zipapp\n",
      "cmd                 mccabe              sklearnex           zipfile\n",
      "code                menuinst            slugify             zipimport\n",
      "codecs              mimetypes           smart_open          zipp\n",
      "codeop              mistune             smtpd               zlib\n",
      "collections         mkl                 smtplib             zmq\n",
      "colorama            mkl_fft             snappy              zoneinfo\n",
      "colorcet            mkl_random          sndhdr              zope\n",
      "colorsys            mmap                sniffio             \n",
      "commctrl            mmapfile            snowballstemmer     \n",
      "compileall          mmsystem            socket              \n",
      "\n",
      "Enter any module name to get more help.  Or, type \"modules spam\" to search\n",
      "for modules whose name or summary contain the string \"spam\".\n",
      "\n"
     ]
    }
   ],
   "source": [
    "help('modules')"
   ]
  },
  {
   "cell_type": "code",
   "execution_count": 3,
   "id": "724ba60c",
   "metadata": {},
   "outputs": [
    {
     "ename": "NameError",
     "evalue": "name 'Babireset' is not defined",
     "output_type": "error",
     "traceback": [
      "\u001b[1;31m---------------------------------------------------------------------------\u001b[0m",
      "\u001b[1;31mNameError\u001b[0m                                 Traceback (most recent call last)",
      "\u001b[1;32m~\\AppData\\Local\\Temp\\ipykernel_4108\\3619857140.py\u001b[0m in \u001b[0;36m<module>\u001b[1;34m\u001b[0m\n\u001b[1;32m----> 1\u001b[1;33m \u001b[0mBabireset\u001b[0m\u001b[1;33m.\u001b[0m\u001b[0mcom\u001b[0m\u001b[1;33m\u001b[0m\u001b[1;33m\u001b[0m\u001b[0m\n\u001b[0m",
      "\u001b[1;31mNameError\u001b[0m: name 'Babireset' is not defined"
     ]
    }
   ],
   "source": [
    "Babireset.com\n",
    "comfertbaby.com"
   ]
  },
  {
   "cell_type": "code",
   "execution_count": 2,
   "id": "65d5ab01",
   "metadata": {},
   "outputs": [
    {
     "name": "stdout",
     "output_type": "stream",
     "text": [
      "<built-in method capitalize of str object at 0x0000016FC5507470>\n"
     ]
    }
   ],
   "source": [
    "print(\"helo\".capitalize)"
   ]
  },
  {
   "cell_type": "code",
   "execution_count": 25,
   "id": "323507ed",
   "metadata": {},
   "outputs": [
    {
     "ename": "NameError",
     "evalue": "name 'b' is not defined",
     "output_type": "error",
     "traceback": [
      "\u001b[1;31m---------------------------------------------------------------------------\u001b[0m",
      "\u001b[1;31mNameError\u001b[0m                                 Traceback (most recent call last)",
      "\u001b[1;32m~\\AppData\\Local\\Temp\\ipykernel_11440\\3253295260.py\u001b[0m in \u001b[0;36m<module>\u001b[1;34m\u001b[0m\n\u001b[0;32m      4\u001b[0m \u001b[1;32mdel\u001b[0m \u001b[0ma\u001b[0m\u001b[1;33m\u001b[0m\u001b[1;33m\u001b[0m\u001b[0m\n\u001b[0;32m      5\u001b[0m \u001b[1;32mdel\u001b[0m \u001b[0mb\u001b[0m\u001b[1;33m\u001b[0m\u001b[1;33m\u001b[0m\u001b[0m\n\u001b[1;32m----> 6\u001b[1;33m \u001b[0mprint\u001b[0m\u001b[1;33m(\u001b[0m\u001b[0mb\u001b[0m\u001b[1;33m)\u001b[0m\u001b[1;33m\u001b[0m\u001b[1;33m\u001b[0m\u001b[0m\n\u001b[0m\u001b[0;32m      7\u001b[0m \u001b[1;33m\u001b[0m\u001b[0m\n\u001b[0;32m      8\u001b[0m \u001b[1;33m\u001b[0m\u001b[0m\n",
      "\u001b[1;31mNameError\u001b[0m: name 'b' is not defined"
     ]
    }
   ],
   "source": [
    "a=5\n",
    "b=a\n",
    "c=b\n",
    "del a\n",
    "del b\n",
    "print(b)\n",
    "\n",
    "\n"
   ]
  },
  {
   "cell_type": "code",
   "execution_count": 27,
   "id": "1c072d54",
   "metadata": {},
   "outputs": [
    {
     "name": "stdout",
     "output_type": "stream",
     "text": [
      "4\n",
      "2063834704272\n",
      "0x4\n"
     ]
    }
   ],
   "source": [
    "a=4\n",
    "b\n",
    "print(a)\n",
    "print(id(a))\n",
    "print(hex(a))"
   ]
  },
  {
   "cell_type": "code",
   "execution_count": 36,
   "id": "a4d8a127",
   "metadata": {},
   "outputs": [
    {
     "data": {
      "text/plain": [
       "5"
      ]
     },
     "execution_count": 36,
     "metadata": {},
     "output_type": "execute_result"
    }
   ],
   "source": [
    "a=5\n",
    "b=a\n",
    "c=b\n",
    "del a\n",
    "b"
   ]
  },
  {
   "cell_type": "code",
   "execution_count": 9,
   "id": "e8e88bb2",
   "metadata": {},
   "outputs": [
    {
     "ename": "TypeError",
     "evalue": "object of type 'Response' has no len()",
     "output_type": "error",
     "traceback": [
      "\u001b[1;31m---------------------------------------------------------------------------\u001b[0m",
      "\u001b[1;31mTypeError\u001b[0m                                 Traceback (most recent call last)",
      "\u001b[1;32m~\\AppData\\Local\\Temp\\ipykernel_8252\\2688896010.py\u001b[0m in \u001b[0;36m<module>\u001b[1;34m\u001b[0m\n\u001b[0;32m      8\u001b[0m \u001b[0murl\u001b[0m\u001b[1;33m=\u001b[0m\u001b[1;34m'https://www.zameen.com/Homes/Lahore-1-1.html'\u001b[0m\u001b[1;33m\u001b[0m\u001b[1;33m\u001b[0m\u001b[0m\n\u001b[0;32m      9\u001b[0m \u001b[0mdata\u001b[0m\u001b[1;33m=\u001b[0m\u001b[0mrequests\u001b[0m\u001b[1;33m.\u001b[0m\u001b[0mget\u001b[0m\u001b[1;33m(\u001b[0m\u001b[0murl\u001b[0m\u001b[1;33m)\u001b[0m\u001b[1;33m\u001b[0m\u001b[1;33m\u001b[0m\u001b[0m\n\u001b[1;32m---> 10\u001b[1;33m \u001b[0msoup\u001b[0m\u001b[1;33m=\u001b[0m\u001b[0mBeautifulSoup\u001b[0m\u001b[1;33m(\u001b[0m\u001b[0mdata\u001b[0m\u001b[1;33m)\u001b[0m\u001b[1;33m.\u001b[0m\u001b[0mtext\u001b[0m\u001b[1;33m\u001b[0m\u001b[1;33m\u001b[0m\u001b[0m\n\u001b[0m\u001b[0;32m     11\u001b[0m \u001b[0msoup\u001b[0m\u001b[1;33m\u001b[0m\u001b[1;33m\u001b[0m\u001b[0m\n\u001b[0;32m     12\u001b[0m \u001b[1;33m\u001b[0m\u001b[0m\n",
      "\u001b[1;32m~\\anaconda3\\lib\\site-packages\\bs4\\__init__.py\u001b[0m in \u001b[0;36m__init__\u001b[1;34m(self, markup, features, builder, parse_only, from_encoding, exclude_encodings, element_classes, **kwargs)\u001b[0m\n\u001b[0;32m    311\u001b[0m         \u001b[1;32mif\u001b[0m \u001b[0mhasattr\u001b[0m\u001b[1;33m(\u001b[0m\u001b[0mmarkup\u001b[0m\u001b[1;33m,\u001b[0m \u001b[1;34m'read'\u001b[0m\u001b[1;33m)\u001b[0m\u001b[1;33m:\u001b[0m        \u001b[1;31m# It's a file-type object.\u001b[0m\u001b[1;33m\u001b[0m\u001b[1;33m\u001b[0m\u001b[0m\n\u001b[0;32m    312\u001b[0m             \u001b[0mmarkup\u001b[0m \u001b[1;33m=\u001b[0m \u001b[0mmarkup\u001b[0m\u001b[1;33m.\u001b[0m\u001b[0mread\u001b[0m\u001b[1;33m(\u001b[0m\u001b[1;33m)\u001b[0m\u001b[1;33m\u001b[0m\u001b[1;33m\u001b[0m\u001b[0m\n\u001b[1;32m--> 313\u001b[1;33m         elif len(markup) <= 256 and (\n\u001b[0m\u001b[0;32m    314\u001b[0m                 \u001b[1;33m(\u001b[0m\u001b[0misinstance\u001b[0m\u001b[1;33m(\u001b[0m\u001b[0mmarkup\u001b[0m\u001b[1;33m,\u001b[0m \u001b[0mbytes\u001b[0m\u001b[1;33m)\u001b[0m \u001b[1;32mand\u001b[0m \u001b[1;32mnot\u001b[0m \u001b[1;34mb'<'\u001b[0m \u001b[1;32min\u001b[0m \u001b[0mmarkup\u001b[0m\u001b[1;33m)\u001b[0m\u001b[1;33m\u001b[0m\u001b[1;33m\u001b[0m\u001b[0m\n\u001b[0;32m    315\u001b[0m                 \u001b[1;32mor\u001b[0m \u001b[1;33m(\u001b[0m\u001b[0misinstance\u001b[0m\u001b[1;33m(\u001b[0m\u001b[0mmarkup\u001b[0m\u001b[1;33m,\u001b[0m \u001b[0mstr\u001b[0m\u001b[1;33m)\u001b[0m \u001b[1;32mand\u001b[0m \u001b[1;32mnot\u001b[0m \u001b[1;34m'<'\u001b[0m \u001b[1;32min\u001b[0m \u001b[0mmarkup\u001b[0m\u001b[1;33m)\u001b[0m\u001b[1;33m\u001b[0m\u001b[1;33m\u001b[0m\u001b[0m\n",
      "\u001b[1;31mTypeError\u001b[0m: object of type 'Response' has no len()"
     ]
    }
   ],
   "source": [
    "import requests\n",
    "from bs4 import BeautifulSoup\n",
    "import numpy as np\n",
    "import pandas as pd\n",
    "#headers={'User-Agent':'Mozilla/5.0 (Windows NT 6.3; Win 64 ; x64) Apple WeKit /537.36(KHTML , like Gecko) Chrome/80.0.3987.162 Safari/537.36'}\n",
    "#-requests.get('url',headers=headers).text\n",
    "\n",
    "url='https://www.zameen.com/Homes/Lahore-1-1.html'\n",
    "data=requests.get(url)\n",
    "soup=BeautifulSoup(data).text\n",
    "soup\n",
    "\n",
    "\n",
    "\n",
    "\n"
   ]
  },
  {
   "cell_type": "code",
   "execution_count": 23,
   "id": "46ed5989",
   "metadata": {},
   "outputs": [
    {
     "name": "stdout",
     "output_type": "stream",
     "text": [
      "2455552876992\n",
      "2455552877312\n"
     ]
    }
   ],
   "source": [
    "import sys\n",
    "\n",
    "a=\"computer science developer\"\n",
    "b=\"computer science developer\"\n",
    "print(id(a))\n",
    "print(id(b))"
   ]
  },
  {
   "cell_type": "code",
   "execution_count": 25,
   "id": "0c5c0f95",
   "metadata": {},
   "outputs": [
    {
     "name": "stdout",
     "output_type": "stream",
     "text": [
      "2455552780848\n",
      "2455552075296\n"
     ]
    }
   ],
   "source": [
    "a=\"computer-science-developer\"\n",
    "b=\"computer-science-developer\"\n",
    "print(id(a))\n",
    "print(id(b))"
   ]
  },
  {
   "cell_type": "code",
   "execution_count": 33,
   "id": "05dc2cb2",
   "metadata": {},
   "outputs": [
    {
     "data": {
      "text/plain": [
       "2455426198832"
      ]
     },
     "execution_count": 33,
     "metadata": {},
     "output_type": "execute_result"
    }
   ],
   "source": [
    "L= [12,23,33]\n",
    "id(33)"
   ]
  },
  {
   "cell_type": "code",
   "execution_count": 31,
   "id": "9fc8da58",
   "metadata": {},
   "outputs": [
    {
     "data": {
      "text/plain": [
       "2455426198832"
      ]
     },
     "execution_count": 31,
     "metadata": {},
     "output_type": "execute_result"
    }
   ],
   "source": [
    "L= [12,23,33]\n",
    "id(L[2])"
   ]
  },
  {
   "cell_type": "code",
   "execution_count": 35,
   "id": "c268bce3",
   "metadata": {},
   "outputs": [
    {
     "data": {
      "text/plain": [
       "[12, 23, 55]"
      ]
     },
     "execution_count": 35,
     "metadata": {},
     "output_type": "execute_result"
    }
   ],
   "source": [
    "L= [12,23,33]\n",
    "L[2]=55\n",
    "\n",
    "L"
   ]
  },
  {
   "cell_type": "code",
   "execution_count": 37,
   "id": "11ca8cd3",
   "metadata": {},
   "outputs": [
    {
     "name": "stdout",
     "output_type": "stream",
     "text": [
      "odd\n",
      "even\n",
      "odd\n",
      "even\n",
      "odd\n",
      "even\n",
      "odd\n",
      "even\n",
      "odd\n",
      "even\n"
     ]
    }
   ],
   "source": [
    "def func(number):\n",
    "    if number%2==0:\n",
    "        return\"even\"\n",
    "    else:\n",
    "        return\"odd\"\n",
    "\n",
    "for i in range(1,11):\n",
    "    print(func(i))\n",
    "\n",
    "    "
   ]
  },
  {
   "cell_type": "code",
   "execution_count": 40,
   "id": "f03069b8",
   "metadata": {},
   "outputs": [
    {
     "name": "stdout",
     "output_type": "stream",
     "text": [
      "C:\\Users\\Abc\\anaconda3\\python.exe\n"
     ]
    }
   ],
   "source": [
    "import sys\n",
    "print(sys.executable)"
   ]
  },
  {
   "cell_type": "code",
   "execution_count": null,
   "id": "dfda018a",
   "metadata": {},
   "outputs": [],
   "source": [
    "def func_demo(number):\n",
    " \"\"\"its my first Function\n",
    "it's created on python power shell\n",
    "posted date is 16 march 2023\"\"\"\n",
    "    \n",
    "    if number%2==0:\n",
    "        return\"even\"\n",
    "    else:\n",
    "        return\"odd\"\n",
    "        \n"
   ]
  }
 ],
 "metadata": {
  "kernelspec": {
   "display_name": "Python 3 (ipykernel)",
   "language": "python",
   "name": "python3"
  },
  "language_info": {
   "codemirror_mode": {
    "name": "ipython",
    "version": 3
   },
   "file_extension": ".py",
   "mimetype": "text/x-python",
   "name": "python",
   "nbconvert_exporter": "python",
   "pygments_lexer": "ipython3",
   "version": "3.9.13"
  }
 },
 "nbformat": 4,
 "nbformat_minor": 5
}
