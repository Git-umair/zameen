{
 "cells": [
  {
   "cell_type": "code",
   "execution_count": null,
   "id": "b200054c",
   "metadata": {},
   "outputs": [],
   "source": [
    "def func_demo(number):\n",
    " \"\"\"its my first Function\n",
    "it's created on python power shell\n",
    "posted date is 16 march 2023\"\"\"\n",
    "    \n",
    "    if number%2==0:\n",
    "        return\"even\"\n",
    "    else:\n",
    "        return\"odd\"\n",
    "        \n"
   ]
  },
  {
   "cell_type": "code",
   "execution_count": 4,
   "id": "4036c5ef",
   "metadata": {},
   "outputs": [
    {
     "ename": "ModuleNotFoundError",
     "evalue": "No module named 'odd'",
     "output_type": "error",
     "traceback": [
      "\u001b[1;31m---------------------------------------------------------------------------\u001b[0m",
      "\u001b[1;31mModuleNotFoundError\u001b[0m                       Traceback (most recent call last)",
      "\u001b[1;32m~\\AppData\\Local\\Temp\\ipykernel_3516\\520369054.py\u001b[0m in \u001b[0;36m<module>\u001b[1;34m\u001b[0m\n\u001b[1;32m----> 1\u001b[1;33m \u001b[1;32mfrom\u001b[0m \u001b[0modd\u001b[0m \u001b[1;32mimport\u001b[0m \u001b[0mfunc_demo\u001b[0m\u001b[1;33m\u001b[0m\u001b[1;33m\u001b[0m\u001b[0m\n\u001b[0m",
      "\u001b[1;31mModuleNotFoundError\u001b[0m: No module named 'odd'"
     ]
    }
   ],
   "source": [
    "from odd import func_demo"
   ]
  },
  {
   "cell_type": "code",
   "execution_count": null,
   "id": "f2464c64",
   "metadata": {},
   "outputs": [],
   "source": []
  }
 ],
 "metadata": {
  "kernelspec": {
   "display_name": "Python 3 (ipykernel)",
   "language": "python",
   "name": "python3"
  },
  "language_info": {
   "codemirror_mode": {
    "name": "ipython",
    "version": 3
   },
   "file_extension": ".py",
   "mimetype": "text/x-python",
   "name": "python",
   "nbconvert_exporter": "python",
   "pygments_lexer": "ipython3",
   "version": "3.9.13"
  }
 },
 "nbformat": 4,
 "nbformat_minor": 5
}
